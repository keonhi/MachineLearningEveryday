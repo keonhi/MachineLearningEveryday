{
 "cells": [
  {
   "cell_type": "code",
   "execution_count": 2,
   "metadata": {},
   "outputs": [],
   "source": [
    "from sklearn.datasets import fetch_california_housing\n",
    "from sklearn.model_selection import train_test_split\n",
    "from sklearn.preprocessing import StandardScaler\n",
    "\n",
    "housing=fetch_california_housing()\n",
    "X_train_full, X_test, y_train_full, y_test = train_test_split(housing.data, housing.target)\n",
    "X_train, X_valid, y_train, y_valid = train_test_split(X_train_full, y_train_full)\n",
    "\n",
    "scaler=StandardScaler()\n",
    "X_train=scaler.fit_transform(X_train)\n",
    "X_valid=scaler.transform(X_valid)\n",
    "X_test=scaler.transform(X_test)"
   ]
  },
  {
   "cell_type": "code",
   "execution_count": 3,
   "metadata": {},
   "outputs": [
    {
     "data": {
      "text/plain": [
       "(11610, 8)"
      ]
     },
     "execution_count": 3,
     "metadata": {},
     "output_type": "execute_result"
    }
   ],
   "source": [
    "X_train.shape"
   ]
  },
  {
   "cell_type": "code",
   "execution_count": 4,
   "metadata": {},
   "outputs": [
    {
     "data": {
      "text/plain": [
       "(8,)"
      ]
     },
     "execution_count": 4,
     "metadata": {},
     "output_type": "execute_result"
    }
   ],
   "source": [
    "X_train.shape[1:]"
   ]
  },
  {
   "cell_type": "code",
   "execution_count": 5,
   "metadata": {},
   "outputs": [
    {
     "data": {
      "text/plain": [
       "array([[-1.14378077, -0.20428138, -0.35036901, ...,  0.09966861,\n",
       "        -0.7940327 ,  1.05301358],\n",
       "       [-0.92374925,  0.19121402, -0.23066809, ...,  0.02165969,\n",
       "        -0.54229841,  1.20716327],\n",
       "       [ 0.77077172, -1.07437127,  0.28590708, ..., -0.00536432,\n",
       "        -0.73343   ,  1.20716327],\n",
       "       ...,\n",
       "       [ 0.41066764, -1.46986668,  0.32267486, ..., -0.02365992,\n",
       "         0.80494625, -0.50837361],\n",
       "       [-0.83108505,  0.82400667, -0.72304745, ...,  0.16844592,\n",
       "        -0.74741524,  0.69001592],\n",
       "       [ 0.00320769,  1.37770024, -0.00550385, ..., -0.02772224,\n",
       "        -0.72410651,  0.73476905]])"
      ]
     },
     "execution_count": 5,
     "metadata": {},
     "output_type": "execute_result"
    }
   ],
   "source": [
    "X_train"
   ]
  },
  {
   "cell_type": "code",
   "execution_count": 8,
   "metadata": {},
   "outputs": [
    {
     "name": "stderr",
     "output_type": "stream",
     "text": [
      "C:\\Users\\keonhi\\anaconda3\\lib\\site-packages\\tensorflow\\python\\framework\\dtypes.py:516: FutureWarning: Passing (type, 1) or '1type' as a synonym of type is deprecated; in a future version of numpy, it will be understood as (type, (1,)) / '(1,)type'.\n",
      "  _np_qint8 = np.dtype([(\"qint8\", np.int8, 1)])\n",
      "C:\\Users\\keonhi\\anaconda3\\lib\\site-packages\\tensorflow\\python\\framework\\dtypes.py:517: FutureWarning: Passing (type, 1) or '1type' as a synonym of type is deprecated; in a future version of numpy, it will be understood as (type, (1,)) / '(1,)type'.\n",
      "  _np_quint8 = np.dtype([(\"quint8\", np.uint8, 1)])\n",
      "C:\\Users\\keonhi\\anaconda3\\lib\\site-packages\\tensorflow\\python\\framework\\dtypes.py:518: FutureWarning: Passing (type, 1) or '1type' as a synonym of type is deprecated; in a future version of numpy, it will be understood as (type, (1,)) / '(1,)type'.\n",
      "  _np_qint16 = np.dtype([(\"qint16\", np.int16, 1)])\n",
      "C:\\Users\\keonhi\\anaconda3\\lib\\site-packages\\tensorflow\\python\\framework\\dtypes.py:519: FutureWarning: Passing (type, 1) or '1type' as a synonym of type is deprecated; in a future version of numpy, it will be understood as (type, (1,)) / '(1,)type'.\n",
      "  _np_quint16 = np.dtype([(\"quint16\", np.uint16, 1)])\n",
      "C:\\Users\\keonhi\\anaconda3\\lib\\site-packages\\tensorflow\\python\\framework\\dtypes.py:520: FutureWarning: Passing (type, 1) or '1type' as a synonym of type is deprecated; in a future version of numpy, it will be understood as (type, (1,)) / '(1,)type'.\n",
      "  _np_qint32 = np.dtype([(\"qint32\", np.int32, 1)])\n",
      "C:\\Users\\keonhi\\anaconda3\\lib\\site-packages\\tensorflow\\python\\framework\\dtypes.py:525: FutureWarning: Passing (type, 1) or '1type' as a synonym of type is deprecated; in a future version of numpy, it will be understood as (type, (1,)) / '(1,)type'.\n",
      "  np_resource = np.dtype([(\"resource\", np.ubyte, 1)])\n"
     ]
    },
    {
     "name": "stdout",
     "output_type": "stream",
     "text": [
      "WARNING:tensorflow:From C:\\Users\\keonhi\\anaconda3\\lib\\site-packages\\tensorflow\\python\\ops\\init_ops.py:1251: calling VarianceScaling.__init__ (from tensorflow.python.ops.init_ops) with dtype is deprecated and will be removed in a future version.\n",
      "Instructions for updating:\n",
      "Call initializer instance with the dtype argument instead of passing it to the constructor\n",
      "Train on 11610 samples, validate on 3870 samples\n",
      "Epoch 1/20\n",
      "11610/11610 [==============================] - 3s 246us/sample - loss: 1.1773 - val_loss: 0.5433\n",
      "Epoch 2/20\n",
      "11610/11610 [==============================] - 1s 45us/sample - loss: 0.5153 - val_loss: 0.4815\n",
      "Epoch 3/20\n",
      "11610/11610 [==============================] - 1s 48us/sample - loss: 0.4848 - val_loss: 0.4903\n",
      "Epoch 4/20\n",
      "11610/11610 [==============================] - 1s 48us/sample - loss: 0.4661 - val_loss: 0.4477\n",
      "Epoch 5/20\n",
      "11610/11610 [==============================] - 1s 50us/sample - loss: 0.4486 - val_loss: 0.4427\n",
      "Epoch 6/20\n",
      "11610/11610 [==============================] - 1s 48us/sample - loss: 0.4389 - val_loss: 0.4275\n",
      "Epoch 7/20\n",
      "11610/11610 [==============================] - 1s 70us/sample - loss: 0.4304 - val_loss: 0.4211\n",
      "Epoch 8/20\n",
      "11610/11610 [==============================] - 1s 48us/sample - loss: 0.4307 - val_loss: 0.4186\n",
      "Epoch 9/20\n",
      "11610/11610 [==============================] - 1s 52us/sample - loss: 0.4189 - val_loss: 0.4120\n",
      "Epoch 10/20\n",
      "11610/11610 [==============================] - 1s 52us/sample - loss: 0.4132 - val_loss: 0.4086\n",
      "Epoch 11/20\n",
      "11610/11610 [==============================] - 1s 52us/sample - loss: 0.4125 - val_loss: 0.4356\n",
      "Epoch 12/20\n",
      "11610/11610 [==============================] - 1s 51us/sample - loss: 0.4314 - val_loss: 0.4179\n",
      "Epoch 13/20\n",
      "11610/11610 [==============================] - 1s 49us/sample - loss: 0.4056 - val_loss: 0.4066\n",
      "Epoch 14/20\n",
      "11610/11610 [==============================] - 1s 48us/sample - loss: 0.4013 - val_loss: 0.3940\n",
      "Epoch 15/20\n",
      "11610/11610 [==============================] - 1s 47us/sample - loss: 0.6127 - val_loss: 0.4664\n",
      "Epoch 16/20\n",
      "11610/11610 [==============================] - 1s 49us/sample - loss: 0.4621 - val_loss: 0.4461\n",
      "Epoch 17/20\n",
      "11610/11610 [==============================] - 1s 49us/sample - loss: 0.4496 - val_loss: 0.4174\n",
      "Epoch 18/20\n",
      "11610/11610 [==============================] - 1s 54us/sample - loss: 0.4137 - val_loss: 0.4243\n",
      "Epoch 19/20\n",
      "11610/11610 [==============================] - 1s 52us/sample - loss: 0.4064 - val_loss: 0.3911\n",
      "Epoch 20/20\n",
      "11610/11610 [==============================] - 1s 48us/sample - loss: 0.3979 - val_loss: 0.4061\n"
     ]
    }
   ],
   "source": [
    "from tensorflow import keras\n",
    "model=keras.models.Sequential([\n",
    "    keras.layers.Dense(30, activation=\"relu\", input_shape=X_train.shape[1:]),\n",
    "    keras.layers.Dense(1)\n",
    "])\n",
    "\n",
    "model.compile(loss=\"mean_squared_error\", optimizer=\"sgd\")\n",
    "\n",
    "history=model.fit(X_train, y_train, epochs=20, validation_data=(X_valid, y_valid))"
   ]
  },
  {
   "cell_type": "code",
   "execution_count": 10,
   "metadata": {},
   "outputs": [
    {
     "name": "stdout",
     "output_type": "stream",
     "text": [
      "5160/5160 [==============================] - 0s 29us/sample - loss: 0.3773\n"
     ]
    }
   ],
   "source": [
    "mse=model.evaluate(X_test, y_test)"
   ]
  },
  {
   "cell_type": "code",
   "execution_count": 11,
   "metadata": {},
   "outputs": [],
   "source": [
    "X_new = X_train[:3]"
   ]
  },
  {
   "cell_type": "code",
   "execution_count": 12,
   "metadata": {},
   "outputs": [
    {
     "data": {
      "text/plain": [
       "array([[-1.14378077, -0.20428138, -0.35036901,  0.04772891,  0.82593701,\n",
       "         0.09966861, -0.7940327 ,  1.05301358],\n",
       "       [-0.92374925,  0.19121402, -0.23066809, -0.18383662, -1.05420129,\n",
       "         0.02165969, -0.54229841,  1.20716327],\n",
       "       [ 0.77077172, -1.07437127,  0.28590708, -0.07029363, -0.44579699,\n",
       "        -0.00536432, -0.73343   ,  1.20716327]])"
      ]
     },
     "execution_count": 12,
     "metadata": {},
     "output_type": "execute_result"
    }
   ],
   "source": [
    "X_new"
   ]
  },
  {
   "cell_type": "code",
   "execution_count": 13,
   "metadata": {},
   "outputs": [],
   "source": [
    "y_pred=model.predict(X_new)"
   ]
  },
  {
   "cell_type": "code",
   "execution_count": 14,
   "metadata": {},
   "outputs": [
    {
     "data": {
      "text/plain": [
       "array([[0.7256104],\n",
       "       [0.6043854],\n",
       "       [1.7835953]], dtype=float32)"
      ]
     },
     "execution_count": 14,
     "metadata": {},
     "output_type": "execute_result"
    }
   ],
   "source": [
    "y_pred"
   ]
  },
  {
   "cell_type": "code",
   "execution_count": 15,
   "metadata": {},
   "outputs": [
    {
     "name": "stdout",
     "output_type": "stream",
     "text": [
      "WARNING:tensorflow:Network returning invalid probability values. The last layer might not normalize predictions into probabilities (like softmax or sigmoid would).\n"
     ]
    },
    {
     "data": {
      "text/plain": [
       "array([[0.7256104],\n",
       "       [0.6043854],\n",
       "       [1.7835953]], dtype=float32)"
      ]
     },
     "execution_count": 15,
     "metadata": {},
     "output_type": "execute_result"
    }
   ],
   "source": [
    "model.predict_proba(X_new)"
   ]
  },
  {
   "cell_type": "code",
   "execution_count": 16,
   "metadata": {},
   "outputs": [],
   "source": [
    "#Sequential API\n",
    "#model=keras.models.Sequential([ keras.layers.Dense(30, activation='relu', input_shape=X_train.shape[1:]), ... ])\n",
    "#model.compile(loss=\"mean_squared_error\", optimizer=\"sgd\")\n",
    "#history=model.fit(X_train, y_train,   epochs=20, validation_data=(X_valid, y_valid))"
   ]
  },
  {
   "cell_type": "code",
   "execution_count": 28,
   "metadata": {},
   "outputs": [],
   "source": [
    "#Wide&Deep neural network\n",
    "#Concatenate\n",
    "\n",
    "input_ = keras.layers.Input(shape=X_train.shape[1:])\n",
    "hidden1= keras.layers.Dense(30, activation=\"relu\")(input_)\n",
    "hidden2= keras.layers.Dense(30, activation=\"relu\")(hidden1)\n",
    "concat= keras.layers.Concatenate()([hidden2, input_])\n",
    "output_ = keras.layers.Dense(1)(concat)\n",
    "model=keras.Model(inputs=[input_], outputs=[output_])"
   ]
  },
  {
   "cell_type": "code",
   "execution_count": 38,
   "metadata": {},
   "outputs": [],
   "source": [
    "inputB = keras.layers.Input(shape=(6,), name =\"deep_input\") #name is not necessary\n",
    "hidden1 = keras.layers.Dense(30, activation=\"relu\")(inputB)\n",
    "hidden2 = keras.layers.Dense(30, activation=\"relu\")(hidden1)\n",
    "inputA = keras.layers.Input(shape=5, name=\"wide_input\") #name is not necessary\n",
    "concat = keras.layers.Concatenate()([inputA, hidden2]) "
   ]
  },
  {
   "cell_type": "code",
   "execution_count": 39,
   "metadata": {},
   "outputs": [],
   "source": [
    "output = keras.layers.Dense(1)(concat)"
   ]
  },
  {
   "cell_type": "code",
   "execution_count": 40,
   "metadata": {},
   "outputs": [],
   "source": [
    "model =keras.Model(inputs=[inputA, inputB], outputs=[output])"
   ]
  },
  {
   "cell_type": "code",
   "execution_count": 43,
   "metadata": {},
   "outputs": [],
   "source": [
    "model.compile(loss=\"mean_squared_error\", optimizer=\"sgd\")"
   ]
  },
  {
   "cell_type": "code",
   "execution_count": 46,
   "metadata": {},
   "outputs": [
    {
     "name": "stdout",
     "output_type": "stream",
     "text": [
      "Epoch 1/20\n",
      "11610/11610 [==============================] - 1s 66us/sample - loss: 1.1986\n",
      "Epoch 2/20\n",
      "11610/11610 [==============================] - 1s 48us/sample - loss: 0.5627\n",
      "Epoch 3/20\n",
      "11610/11610 [==============================] - 1s 47us/sample - loss: 0.5124\n",
      "Epoch 4/20\n",
      "11610/11610 [==============================] - 1s 47us/sample - loss: 0.4823\n",
      "Epoch 5/20\n",
      "11610/11610 [==============================] - 1s 48us/sample - loss: 0.4618\n",
      "Epoch 6/20\n",
      "11610/11610 [==============================] - 1s 48us/sample - loss: 0.4767\n",
      "Epoch 7/20\n",
      "11610/11610 [==============================] - 1s 47us/sample - loss: 0.4339\n",
      "Epoch 8/20\n",
      "11610/11610 [==============================] - 1s 48us/sample - loss: 0.4245\n",
      "Epoch 9/20\n",
      "11610/11610 [==============================] - 1s 47us/sample - loss: 0.4137\n",
      "Epoch 10/20\n",
      "11610/11610 [==============================] - 1s 47us/sample - loss: 0.4086\n",
      "Epoch 11/20\n",
      "11610/11610 [==============================] - 1s 47us/sample - loss: 0.4013\n",
      "Epoch 12/20\n",
      "11610/11610 [==============================] - 1s 46us/sample - loss: 0.3965\n",
      "Epoch 13/20\n",
      "11610/11610 [==============================] - 1s 46us/sample - loss: 0.3902\n",
      "Epoch 14/20\n",
      "11610/11610 [==============================] - 1s 47us/sample - loss: 0.3806\n",
      "Epoch 15/20\n",
      "11610/11610 [==============================] - 1s 46us/sample - loss: 0.3889\n",
      "Epoch 16/20\n",
      "11610/11610 [==============================] - 1s 47us/sample - loss: 0.3752\n",
      "Epoch 17/20\n",
      "11610/11610 [==============================] - 1s 47us/sample - loss: 0.3696\n",
      "Epoch 18/20\n",
      "11610/11610 [==============================] - 1s 47us/sample - loss: 0.3681\n",
      "Epoch 19/20\n",
      "11610/11610 [==============================] - 1s 48us/sample - loss: 0.3679\n",
      "Epoch 20/20\n",
      "11610/11610 [==============================] - 1s 47us/sample - loss: 0.3642\n"
     ]
    },
    {
     "data": {
      "text/plain": [
       "<tensorflow.python.keras.callbacks.History at 0x1e866f67a48>"
      ]
     },
     "execution_count": 46,
     "metadata": {},
     "output_type": "execute_result"
    }
   ],
   "source": [
    "X_train_A = X_train[:,:5]\n",
    "X_train_B = X_train[:, 2:]\n",
    "\n",
    "model.fit((X_train_A,X_train_B), y_train, epochs=20)"
   ]
  },
  {
   "cell_type": "code",
   "execution_count": 48,
   "metadata": {},
   "outputs": [
    {
     "name": "stdout",
     "output_type": "stream",
     "text": [
      "Train on 11610 samples, validate on 3870 samples\n",
      "Epoch 1/20\n",
      "11610/11610 [==============================] - 1s 60us/sample - loss: 0.3405 - val_loss: 0.3399\n",
      "Epoch 2/20\n",
      "11610/11610 [==============================] - 1s 59us/sample - loss: 0.3366 - val_loss: 0.3412\n",
      "Epoch 3/20\n",
      "11610/11610 [==============================] - 1s 58us/sample - loss: 0.3398 - val_loss: 0.3510\n",
      "Epoch 4/20\n",
      "11610/11610 [==============================] - 1s 58us/sample - loss: 0.3360 - val_loss: 0.3449\n",
      "Epoch 5/20\n",
      "11610/11610 [==============================] - 1s 58us/sample - loss: 0.3341 - val_loss: 0.3537\n",
      "Epoch 6/20\n",
      "11610/11610 [==============================] - 1s 58us/sample - loss: 0.3391 - val_loss: 0.3357\n",
      "Epoch 7/20\n",
      "11610/11610 [==============================] - 1s 59us/sample - loss: 0.3344 - val_loss: 0.3825\n",
      "Epoch 8/20\n",
      "11610/11610 [==============================] - 1s 58us/sample - loss: 0.3332 - val_loss: 0.3399\n",
      "Epoch 9/20\n",
      "11610/11610 [==============================] - 1s 58us/sample - loss: 0.3350 - val_loss: 0.3422\n",
      "Epoch 10/20\n",
      "11610/11610 [==============================] - 1s 58us/sample - loss: 0.3316 - val_loss: 0.3377\n",
      "Epoch 11/20\n",
      "11610/11610 [==============================] - 1s 58us/sample - loss: 0.3355 - val_loss: 0.3297\n",
      "Epoch 12/20\n",
      "11610/11610 [==============================] - 1s 58us/sample - loss: 0.3333 - val_loss: 0.3505\n",
      "Epoch 13/20\n",
      "11610/11610 [==============================] - 1s 58us/sample - loss: 0.3314 - val_loss: 0.3350\n",
      "Epoch 14/20\n",
      "11610/11610 [==============================] - 1s 59us/sample - loss: 0.3313 - val_loss: 0.3332\n",
      "Epoch 15/20\n",
      "11610/11610 [==============================] - 1s 58us/sample - loss: 0.3287 - val_loss: 0.3669\n",
      "Epoch 16/20\n",
      "11610/11610 [==============================] - 1s 59us/sample - loss: 0.3477 - val_loss: 0.3339\n",
      "Epoch 17/20\n",
      "11610/11610 [==============================] - 1s 59us/sample - loss: 0.3296 - val_loss: 0.3295\n",
      "Epoch 18/20\n",
      "11610/11610 [==============================] - 1s 58us/sample - loss: 0.3283 - val_loss: 0.3358\n",
      "Epoch 19/20\n",
      "11610/11610 [==============================] - 1s 58us/sample - loss: 0.3287 - val_loss: 0.3291\n",
      "Epoch 20/20\n",
      "11610/11610 [==============================] - 1s 59us/sample - loss: 0.3291 - val_loss: 0.3387\n"
     ]
    }
   ],
   "source": [
    "X_train_A = X_train[:,:5]\n",
    "X_train_B = X_train[:, 2:]\n",
    "X_valid_A = X_valid[:,:5]\n",
    "X_valid_B = X_valid[:, 2:]\n",
    "\n",
    "history=model.fit((X_train_A,X_train_B), y_train, epochs=20, validation_data=((X_valid_A, X_valid_B), y_valid))"
   ]
  },
  {
   "cell_type": "code",
   "execution_count": 49,
   "metadata": {},
   "outputs": [
    {
     "name": "stdout",
     "output_type": "stream",
     "text": [
      "5160/5160 [==============================] - 0s 35us/sample - loss: 0.3159\n"
     ]
    }
   ],
   "source": [
    "X_test_A, X_test_B = X_test[:, :5], X_test[:, 2:]\n",
    "mse_test = model.evaluate((X_test_A, X_test_B), y_test)"
   ]
  },
  {
   "cell_type": "code",
   "execution_count": 50,
   "metadata": {},
   "outputs": [],
   "source": [
    "X_new_A, X_new_B = X_new[:, :5], X_new[:,2:]\n",
    "y_pred=model.predict((X_new_A, X_new_B))"
   ]
  },
  {
   "cell_type": "code",
   "execution_count": 51,
   "metadata": {},
   "outputs": [
    {
     "data": {
      "text/plain": [
       "array([[0.8988588],\n",
       "       [0.9194963],\n",
       "       [1.7580698]], dtype=float32)"
      ]
     },
     "execution_count": 51,
     "metadata": {},
     "output_type": "execute_result"
    }
   ],
   "source": [
    "y_pred"
   ]
  },
  {
   "cell_type": "code",
   "execution_count": 52,
   "metadata": {},
   "outputs": [],
   "source": [
    "model.compile(loss=\"mean_squared_error\", optimizer=keras.optimizers.SGD(lr=1e-3))"
   ]
  },
  {
   "cell_type": "code",
   "execution_count": 53,
   "metadata": {},
   "outputs": [],
   "source": [
    "inputB = keras.layers.Input(shape=(6,), name =\"deep_input\") #name is not necessary\n",
    "hidden1 = keras.layers.Dense(30, activation=\"relu\")(inputB)\n",
    "hidden2 = keras.layers.Dense(30, activation=\"relu\")(hidden1)\n",
    "inputA = keras.layers.Input(shape=5, name=\"wide_input\") #name is not necessary\n",
    "concat = keras.layers.Concatenate()([inputA, hidden2]) \n",
    "output = keras.layers.Dense(1)(concat)\n",
    "model =keras.Model(inputs=[inputA, inputB], outputs=[output])"
   ]
  },
  {
   "cell_type": "code",
   "execution_count": 54,
   "metadata": {},
   "outputs": [],
   "source": [
    "model.compile(loss=\"mean_squared_error\", optimizer=\"sgd\")"
   ]
  },
  {
   "cell_type": "code",
   "execution_count": 55,
   "metadata": {},
   "outputs": [
    {
     "name": "stdout",
     "output_type": "stream",
     "text": [
      "Train on 11610 samples, validate on 3870 samples\n",
      "Epoch 1/20\n",
      "11610/11610 [==============================] - 1s 85us/sample - loss: 0.9019 - val_loss: 0.5430\n",
      "Epoch 2/20\n",
      "11610/11610 [==============================] - 1s 60us/sample - loss: 0.5322 - val_loss: 0.5665\n",
      "Epoch 3/20\n",
      "11610/11610 [==============================] - 1s 59us/sample - loss: 0.5089 - val_loss: 0.4863\n",
      "Epoch 4/20\n",
      "11610/11610 [==============================] - 1s 58us/sample - loss: 0.4847 - val_loss: 0.4745\n",
      "Epoch 5/20\n",
      "11610/11610 [==============================] - 1s 58us/sample - loss: 0.4724 - val_loss: 0.4604\n",
      "Epoch 6/20\n",
      "11610/11610 [==============================] - 1s 60us/sample - loss: 0.4736 - val_loss: 0.4513\n",
      "Epoch 7/20\n",
      "11610/11610 [==============================] - 1s 59us/sample - loss: 0.4460 - val_loss: 0.4369\n",
      "Epoch 8/20\n",
      "11610/11610 [==============================] - 1s 58us/sample - loss: 0.4350 - val_loss: 0.4270\n",
      "Epoch 9/20\n",
      "11610/11610 [==============================] - 1s 58us/sample - loss: 0.4225 - val_loss: 0.4354\n",
      "Epoch 10/20\n",
      "11610/11610 [==============================] - 1s 59us/sample - loss: 0.4180 - val_loss: 0.4294\n",
      "Epoch 11/20\n",
      "11610/11610 [==============================] - 1s 58us/sample - loss: 0.4107 - val_loss: 0.4030\n",
      "Epoch 12/20\n",
      "11610/11610 [==============================] - 1s 58us/sample - loss: 0.4170 - val_loss: 0.3985\n",
      "Epoch 13/20\n",
      "11610/11610 [==============================] - 1s 59us/sample - loss: 0.4073 - val_loss: 0.3919\n",
      "Epoch 14/20\n",
      "11610/11610 [==============================] - 1s 58us/sample - loss: 0.3936 - val_loss: 0.3830\n",
      "Epoch 15/20\n",
      "11610/11610 [==============================] - 1s 58us/sample - loss: 0.3825 - val_loss: 0.3792\n",
      "Epoch 16/20\n",
      "11610/11610 [==============================] - 1s 58us/sample - loss: 0.3826 - val_loss: 0.3967\n",
      "Epoch 17/20\n",
      "11610/11610 [==============================] - 1s 58us/sample - loss: 0.3956 - val_loss: 0.3751\n",
      "Epoch 18/20\n",
      "11610/11610 [==============================] - 1s 58us/sample - loss: 0.3738 - val_loss: 0.3880\n",
      "Epoch 19/20\n",
      "11610/11610 [==============================] - 1s 60us/sample - loss: 0.3815 - val_loss: 0.3710\n",
      "Epoch 20/20\n",
      "11610/11610 [==============================] - 1s 59us/sample - loss: 0.3766 - val_loss: 0.3685\n"
     ]
    }
   ],
   "source": [
    "history=model.fit((X_train_A,X_train_B), y_train, epochs=20, validation_data=((X_valid_A, X_valid_B), y_valid))"
   ]
  },
  {
   "cell_type": "code",
   "execution_count": 56,
   "metadata": {},
   "outputs": [
    {
     "name": "stdout",
     "output_type": "stream",
     "text": [
      "5160/5160 [==============================] - 0s 28us/sample - loss: 0.3318\n"
     ]
    },
    {
     "data": {
      "text/plain": [
       "array([[0.7566462 ],\n",
       "       [0.80276746],\n",
       "       [1.6456962 ]], dtype=float32)"
      ]
     },
     "execution_count": 56,
     "metadata": {},
     "output_type": "execute_result"
    }
   ],
   "source": [
    "mse_test = model.evaluate((X_test_A, X_test_B), y_test)\n",
    "y_pred=model.predict((X_new_A, X_new_B))\n",
    "y_pred"
   ]
  },
  {
   "cell_type": "code",
   "execution_count": 57,
   "metadata": {},
   "outputs": [],
   "source": [
    "inputB= keras.layers.Input(shape=6, name=\"deep_input\")\n",
    "hidden1= keras.layers.Dense(30, activation=\"relu\")(inputB)\n",
    "hidden2= keras.layers.Dense(30, activation=\"relu\")(hidden1)\n",
    "inputA= keras.layers.Input(shape=5, name=\"wide_input\")\n",
    "concat= keras.layers.Concatenate()([inputA, hidden2])\n",
    "aux_output= keras.layers.Dense(1)(hidden2)\n",
    "output=keras.layers.Dense(1)(concat)"
   ]
  },
  {
   "cell_type": "code",
   "execution_count": 58,
   "metadata": {},
   "outputs": [],
   "source": [
    "model2= keras.Model(inputs=[inputA, inputB], outputs=[output, aux_output])"
   ]
  },
  {
   "cell_type": "code",
   "execution_count": 61,
   "metadata": {},
   "outputs": [],
   "source": [
    "model2.compile(loss=\"mean_squared_error\", optimizer=keras.optimizers.SGD(lr=1e-3))"
   ]
  },
  {
   "cell_type": "code",
   "execution_count": 63,
   "metadata": {},
   "outputs": [
    {
     "name": "stdout",
     "output_type": "stream",
     "text": [
      "11610/11610 [==============================] - 1s 76us/sample - loss: 4.3399 - dense_36_loss: 2.0635 - dense_35_loss: 2.2757\n"
     ]
    },
    {
     "data": {
      "text/plain": [
       "<tensorflow.python.keras.callbacks.History at 0x1e86839df48>"
      ]
     },
     "execution_count": 63,
     "metadata": {},
     "output_type": "execute_result"
    }
   ],
   "source": [
    "model2.fit((X_train_A, X_train_B), (y_train, y_train))"
   ]
  },
  {
   "cell_type": "code",
   "execution_count": 64,
   "metadata": {},
   "outputs": [
    {
     "name": "stdout",
     "output_type": "stream",
     "text": [
      "Train on 11610 samples, validate on 3870 samples\n",
      "Epoch 1/20\n",
      "11610/11610 [==============================] - 1s 86us/sample - loss: 2.2832 - dense_36_loss: 0.9434 - dense_35_loss: 1.3402 - val_loss: 1.9808 - val_dense_36_loss: 0.7842 - val_dense_35_loss: 1.1968\n",
      "Epoch 2/20\n",
      "11610/11610 [==============================] - 1s 79us/sample - loss: 1.9567 - dense_36_loss: 0.7649 - dense_35_loss: 1.1921 - val_loss: 1.7461 - val_dense_36_loss: 0.6799 - val_dense_35_loss: 1.0661\n",
      "Epoch 3/20\n",
      "11610/11610 [==============================] - 1s 79us/sample - loss: 1.7333 - dense_36_loss: 0.6780 - dense_35_loss: 1.0549 - val_loss: 1.5514 - val_dense_36_loss: 0.6146 - val_dense_35_loss: 0.9368\n",
      "Epoch 4/20\n",
      "11610/11610 [==============================] - 1s 79us/sample - loss: 1.5528 - dense_36_loss: 0.6202 - dense_35_loss: 0.9326 - val_loss: 1.4084 - val_dense_36_loss: 0.5723 - val_dense_35_loss: 0.8359\n",
      "Epoch 5/20\n",
      "11610/11610 [==============================] - 1s 79us/sample - loss: 1.4220 - dense_36_loss: 0.5816 - dense_35_loss: 0.8401 - val_loss: 1.3108 - val_dense_36_loss: 0.5437 - val_dense_35_loss: 0.7667\n",
      "Epoch 6/20\n",
      "11610/11610 [==============================] - 1s 79us/sample - loss: 1.3334 - dense_36_loss: 0.5553 - dense_35_loss: 0.7777 - val_loss: 1.2454 - val_dense_36_loss: 0.5233 - val_dense_35_loss: 0.7220\n",
      "Epoch 7/20\n",
      "11610/11610 [==============================] - 1s 80us/sample - loss: 1.2755 - dense_36_loss: 0.5374 - dense_35_loss: 0.7382 - val_loss: 1.2044 - val_dense_36_loss: 0.5097 - val_dense_35_loss: 0.6949\n",
      "Epoch 8/20\n",
      "11610/11610 [==============================] - 1s 79us/sample - loss: 1.2373 - dense_36_loss: 0.5247 - dense_35_loss: 0.7128 - val_loss: 1.1760 - val_dense_36_loss: 0.4992 - val_dense_35_loss: 0.6773\n",
      "Epoch 9/20\n",
      "11610/11610 [==============================] - 1s 79us/sample - loss: 1.2089 - dense_36_loss: 0.5143 - dense_35_loss: 0.6944 - val_loss: 1.1536 - val_dense_36_loss: 0.4900 - val_dense_35_loss: 0.6634\n",
      "Epoch 10/20\n",
      "11610/11610 [==============================] - 1s 79us/sample - loss: 1.1871 - dense_36_loss: 0.5061 - dense_35_loss: 0.6809 - val_loss: 1.1393 - val_dense_36_loss: 0.4844 - val_dense_35_loss: 0.6547\n",
      "Epoch 11/20\n",
      "11610/11610 [==============================] - 1s 79us/sample - loss: 1.1697 - dense_36_loss: 0.4994 - dense_35_loss: 0.6705 - val_loss: 1.1247 - val_dense_36_loss: 0.4787 - val_dense_35_loss: 0.6460\n",
      "Epoch 12/20\n",
      "11610/11610 [==============================] - 1s 80us/sample - loss: 1.1546 - dense_36_loss: 0.4937 - dense_35_loss: 0.6609 - val_loss: 1.1175 - val_dense_36_loss: 0.4756 - val_dense_35_loss: 0.6419\n",
      "Epoch 13/20\n",
      "11610/11610 [==============================] - 1s 79us/sample - loss: 1.1407 - dense_36_loss: 0.4879 - dense_35_loss: 0.6528 - val_loss: 1.1052 - val_dense_36_loss: 0.4711 - val_dense_35_loss: 0.6342\n",
      "Epoch 14/20\n",
      "11610/11610 [==============================] - 1s 79us/sample - loss: 1.1297 - dense_36_loss: 0.4839 - dense_35_loss: 0.6458 - val_loss: 1.0993 - val_dense_36_loss: 0.4685 - val_dense_35_loss: 0.6307\n",
      "Epoch 15/20\n",
      "11610/11610 [==============================] - 1s 79us/sample - loss: 1.1188 - dense_36_loss: 0.4796 - dense_35_loss: 0.6390 - val_loss: 1.0857 - val_dense_36_loss: 0.4636 - val_dense_35_loss: 0.6220\n",
      "Epoch 16/20\n",
      "11610/11610 [==============================] - 1s 79us/sample - loss: 1.1091 - dense_36_loss: 0.4762 - dense_35_loss: 0.6330 - val_loss: 1.0762 - val_dense_36_loss: 0.4602 - val_dense_35_loss: 0.6161\n",
      "Epoch 17/20\n",
      "11610/11610 [==============================] - 1s 79us/sample - loss: 1.0984 - dense_36_loss: 0.4717 - dense_35_loss: 0.6264 - val_loss: 1.0704 - val_dense_36_loss: 0.4583 - val_dense_35_loss: 0.6123\n",
      "Epoch 18/20\n",
      "11610/11610 [==============================] - 1s 80us/sample - loss: 1.0896 - dense_36_loss: 0.4686 - dense_35_loss: 0.6210 - val_loss: 1.0628 - val_dense_36_loss: 0.4554 - val_dense_35_loss: 0.6073\n",
      "Epoch 19/20\n",
      "11610/11610 [==============================] - 1s 80us/sample - loss: 1.0819 - dense_36_loss: 0.4658 - dense_35_loss: 0.6157 - val_loss: 1.0531 - val_dense_36_loss: 0.4523 - val_dense_35_loss: 0.6008\n",
      "Epoch 20/20\n",
      "11610/11610 [==============================] - 1s 79us/sample - loss: 1.0736 - dense_36_loss: 0.4629 - dense_35_loss: 0.6106 - val_loss: 1.0477 - val_dense_36_loss: 0.4501 - val_dense_35_loss: 0.5975\n"
     ]
    },
    {
     "data": {
      "text/plain": [
       "<tensorflow.python.keras.callbacks.History at 0x1e86883b0c8>"
      ]
     },
     "execution_count": 64,
     "metadata": {},
     "output_type": "execute_result"
    }
   ],
   "source": [
    "model2.fit((X_train_A, X_train_B), (y_train, y_train), epochs=20,\n",
    "          validation_data= ((X_valid_A, X_valid_B), (y_valid, y_valid)))"
   ]
  },
  {
   "cell_type": "code",
   "execution_count": 66,
   "metadata": {},
   "outputs": [],
   "source": [
    "model2.compile(loss=[\"mse\", \"mse\"], loss_weights=[0.9, 0.1], optimizer=\"sgd\")"
   ]
  },
  {
   "cell_type": "code",
   "execution_count": 67,
   "metadata": {},
   "outputs": [
    {
     "name": "stdout",
     "output_type": "stream",
     "text": [
      "Train on 11610 samples, validate on 3870 samples\n",
      "Epoch 1/20\n",
      "11610/11610 [==============================] - 1s 94us/sample - loss: 0.4734 - dense_36_loss: 0.4584 - dense_35_loss: 0.6079 - val_loss: 0.4616 - val_dense_36_loss: 0.4467 - val_dense_35_loss: 0.5948\n",
      "Epoch 2/20\n",
      "11610/11610 [==============================] - 1s 81us/sample - loss: 0.4688 - dense_36_loss: 0.4539 - dense_35_loss: 0.6033 - val_loss: 0.5425 - val_dense_36_loss: 0.5334 - val_dense_35_loss: 0.6223\n",
      "Epoch 3/20\n",
      "11610/11610 [==============================] - 1s 82us/sample - loss: 0.6080 - dense_36_loss: 0.6042 - dense_35_loss: 0.6413 - val_loss: 0.4785 - val_dense_36_loss: 0.4638 - val_dense_35_loss: 0.6117\n",
      "Epoch 4/20\n",
      "11610/11610 [==============================] - 1s 82us/sample - loss: 0.4883 - dense_36_loss: 0.4732 - dense_35_loss: 0.6240 - val_loss: 0.4603 - val_dense_36_loss: 0.4447 - val_dense_35_loss: 0.5996\n",
      "Epoch 5/20\n",
      "11610/11610 [==============================] - 1s 81us/sample - loss: 0.4661 - dense_36_loss: 0.4500 - dense_35_loss: 0.6105 - val_loss: 0.4586 - val_dense_36_loss: 0.4427 - val_dense_35_loss: 0.6005\n",
      "Epoch 6/20\n",
      "11610/11610 [==============================] - 1s 81us/sample - loss: 0.4852 - dense_36_loss: 0.4709 - dense_35_loss: 0.6133 - val_loss: 0.4465 - val_dense_36_loss: 0.4303 - val_dense_35_loss: 0.5923\n",
      "Epoch 7/20\n",
      "11610/11610 [==============================] - 1s 81us/sample - loss: 0.4521 - dense_36_loss: 0.4361 - dense_35_loss: 0.5965 - val_loss: 0.4634 - val_dense_36_loss: 0.4499 - val_dense_35_loss: 0.5845\n",
      "Epoch 8/20\n",
      "11610/11610 [==============================] - 1s 82us/sample - loss: 0.4437 - dense_36_loss: 0.4273 - dense_35_loss: 0.5916 - val_loss: 0.4382 - val_dense_36_loss: 0.4226 - val_dense_35_loss: 0.5796\n",
      "Epoch 9/20\n",
      "11610/11610 [==============================] - 1s 82us/sample - loss: 0.4435 - dense_36_loss: 0.4287 - dense_35_loss: 0.5758 - val_loss: 0.4391 - val_dense_36_loss: 0.4242 - val_dense_35_loss: 0.5733\n",
      "Epoch 10/20\n",
      "11610/11610 [==============================] - 1s 82us/sample - loss: 0.4430 - dense_36_loss: 0.4293 - dense_35_loss: 0.5689 - val_loss: 0.4425 - val_dense_36_loss: 0.4293 - val_dense_35_loss: 0.5624\n",
      "Epoch 11/20\n",
      "11610/11610 [==============================] - 1s 81us/sample - loss: 0.4363 - dense_36_loss: 0.4213 - dense_35_loss: 0.5696 - val_loss: 0.4209 - val_dense_36_loss: 0.4068 - val_dense_35_loss: 0.5479\n",
      "Epoch 12/20\n",
      "11610/11610 [==============================] - 1s 81us/sample - loss: 0.4224 - dense_36_loss: 0.4075 - dense_35_loss: 0.5566 - val_loss: 0.4164 - val_dense_36_loss: 0.4024 - val_dense_35_loss: 0.5410\n",
      "Epoch 13/20\n",
      "11610/11610 [==============================] - 1s 82us/sample - loss: 0.4196 - dense_36_loss: 0.4052 - dense_35_loss: 0.5492 - val_loss: 0.4103 - val_dense_36_loss: 0.3963 - val_dense_35_loss: 0.5364\n",
      "Epoch 14/20\n",
      "11610/11610 [==============================] - 1s 82us/sample - loss: 0.4159 - dense_36_loss: 0.4016 - dense_35_loss: 0.5436 - val_loss: 0.4118 - val_dense_36_loss: 0.3982 - val_dense_35_loss: 0.5331\n",
      "Epoch 15/20\n",
      "11610/11610 [==============================] - 1s 82us/sample - loss: 0.4102 - dense_36_loss: 0.3959 - dense_35_loss: 0.5376 - val_loss: 0.4035 - val_dense_36_loss: 0.3901 - val_dense_35_loss: 0.5243\n",
      "Epoch 16/20\n",
      "11610/11610 [==============================] - 1s 81us/sample - loss: 0.4082 - dense_36_loss: 0.3945 - dense_35_loss: 0.5305 - val_loss: 0.3984 - val_dense_36_loss: 0.3853 - val_dense_35_loss: 0.5153\n",
      "Epoch 17/20\n",
      "11610/11610 [==============================] - 1s 81us/sample - loss: 0.4041 - dense_36_loss: 0.3908 - dense_35_loss: 0.5254 - val_loss: 0.3936 - val_dense_36_loss: 0.3804 - val_dense_35_loss: 0.5122\n",
      "Epoch 18/20\n",
      "11610/11610 [==============================] - 1s 81us/sample - loss: 0.4055 - dense_36_loss: 0.3915 - dense_35_loss: 0.5313 - val_loss: 0.3967 - val_dense_36_loss: 0.3838 - val_dense_35_loss: 0.5132\n",
      "Epoch 19/20\n",
      "11610/11610 [==============================] - 1s 82us/sample - loss: 0.3978 - dense_36_loss: 0.3848 - dense_35_loss: 0.5141 - val_loss: 0.4647 - val_dense_36_loss: 0.4566 - val_dense_35_loss: 0.5373\n",
      "Epoch 20/20\n",
      "11610/11610 [==============================] - 1s 81us/sample - loss: 0.4021 - dense_36_loss: 0.3903 - dense_35_loss: 0.5069 - val_loss: 0.3826 - val_dense_36_loss: 0.3704 - val_dense_35_loss: 0.4924\n"
     ]
    },
    {
     "data": {
      "text/plain": [
       "<tensorflow.python.keras.callbacks.History at 0x1e8698e7788>"
      ]
     },
     "execution_count": 67,
     "metadata": {},
     "output_type": "execute_result"
    }
   ],
   "source": [
    "model2.fit((X_train_A, X_train_B), (y_train, y_train), epochs=20,\n",
    "          validation_data= ((X_valid_A, X_valid_B), (y_valid, y_valid)))"
   ]
  },
  {
   "cell_type": "code",
   "execution_count": 70,
   "metadata": {},
   "outputs": [
    {
     "name": "stdout",
     "output_type": "stream",
     "text": [
      "5160/5160 [==============================] - 0s 42us/sample - loss: 0.3499 - dense_36_loss: 0.3370 - dense_35_loss: 0.4633\n"
     ]
    }
   ],
   "source": [
    "total_loss, main_loss, aux_loss = model2.evaluate([X_test_A, X_test_B], [y_test, y_test])"
   ]
  },
  {
   "cell_type": "code",
   "execution_count": 72,
   "metadata": {},
   "outputs": [],
   "source": [
    "y_pred_main, y_pred_aux = model2.predict([X_new_A, X_new_B])"
   ]
  },
  {
   "cell_type": "code",
   "execution_count": 73,
   "metadata": {},
   "outputs": [
    {
     "data": {
      "text/plain": [
       "array([[0.8307997],\n",
       "       [0.8642037],\n",
       "       [1.7015984]], dtype=float32)"
      ]
     },
     "execution_count": 73,
     "metadata": {},
     "output_type": "execute_result"
    }
   ],
   "source": [
    "y_pred_main"
   ]
  },
  {
   "cell_type": "code",
   "execution_count": 74,
   "metadata": {},
   "outputs": [
    {
     "data": {
      "text/plain": [
       "array([[1.0334437],\n",
       "       [1.2010483],\n",
       "       [1.3025247]], dtype=float32)"
      ]
     },
     "execution_count": 74,
     "metadata": {},
     "output_type": "execute_result"
    }
   ],
   "source": [
    "y_pred_aux"
   ]
  },
  {
   "cell_type": "code",
   "execution_count": 78,
   "metadata": {},
   "outputs": [],
   "source": [
    "#Subclassing API\n",
    "class WideAndDeepModel(keras.Model):\n",
    "    def __init__ (self, units=30, activation=\"relu\", **kwargs):\n",
    "        super().__init__(**kwargs) #handles stardard args (e.g., name)\n",
    "        self.hidden1=keras.layers.Dense(units, activation=activation)\n",
    "        self.hidden2=keras.layers.Dense(units, activation=activation)\n",
    "        self.main_output=keras.layers.Dense(1)\n",
    "        self.aux_output=keras.layers.Dense(1)\n",
    "        \n",
    "    def call(self, inputs):\n",
    "        inputA, inputB = inputs\n",
    "        hidden1=self.hidden1(inputB)\n",
    "        hidden2=self.hidden2(hidden1)\n",
    "        concat=keras.layers.Concatenate()([inputA, hidden2])\n",
    "        main_output= self.main_output(concat)\n",
    "        aux_output= self.aux_output(hidden2)\n",
    "        return main_output, aux_output\n",
    "\n",
    "model=WideAndDeepModel()"
   ]
  },
  {
   "cell_type": "code",
   "execution_count": 79,
   "metadata": {},
   "outputs": [],
   "source": [
    "#The special syntax **kwargs in function definitions in python is used to pass a keyworded, variable-length argument list.\n",
    "#We use the name kwargs with the double star. \n",
    "#The reason is because the double star allows us to pass through keyword arguments (and any number of them)."
   ]
  },
  {
   "cell_type": "code",
   "execution_count": 80,
   "metadata": {},
   "outputs": [],
   "source": [
    "model2.save(\"functional_api.h5\")"
   ]
  },
  {
   "cell_type": "code",
   "execution_count": 83,
   "metadata": {},
   "outputs": [
    {
     "name": "stdout",
     "output_type": "stream",
     "text": [
      "WARNING:tensorflow:From C:\\Users\\keonhi\\anaconda3\\lib\\site-packages\\tensorflow\\python\\ops\\init_ops.py:97: calling GlorotUniform.__init__ (from tensorflow.python.ops.init_ops) with dtype is deprecated and will be removed in a future version.\n",
      "Instructions for updating:\n",
      "Call initializer instance with the dtype argument instead of passing it to the constructor\n",
      "WARNING:tensorflow:From C:\\Users\\keonhi\\anaconda3\\lib\\site-packages\\tensorflow\\python\\ops\\init_ops.py:97: calling Zeros.__init__ (from tensorflow.python.ops.init_ops) with dtype is deprecated and will be removed in a future version.\n",
      "Instructions for updating:\n",
      "Call initializer instance with the dtype argument instead of passing it to the constructor\n"
     ]
    }
   ],
   "source": [
    "model3 = keras.models.load_model(\"functional_api.h5\")"
   ]
  },
  {
   "cell_type": "code",
   "execution_count": 84,
   "metadata": {},
   "outputs": [
    {
     "data": {
      "text/plain": [
       "<tensorflow.python.keras.engine.training.Model at 0x1e86851fc88>"
      ]
     },
     "execution_count": 84,
     "metadata": {},
     "output_type": "execute_result"
    }
   ],
   "source": [
    "model3"
   ]
  },
  {
   "cell_type": "code",
   "execution_count": 86,
   "metadata": {},
   "outputs": [
    {
     "name": "stdout",
     "output_type": "stream",
     "text": [
      "11610/11610 [==============================] - 1s 75us/sample - loss: 0.4809 - dense_36_loss: 0.4736 - dense_35_loss: 0.5467\n"
     ]
    },
    {
     "data": {
      "text/plain": [
       "<tensorflow.python.keras.callbacks.History at 0x1e86aee7508>"
      ]
     },
     "execution_count": 86,
     "metadata": {},
     "output_type": "execute_result"
    }
   ],
   "source": [
    "model3.fit([X_train_A,X_train_B], [y_train, y_train])"
   ]
  },
  {
   "cell_type": "code",
   "execution_count": 87,
   "metadata": {},
   "outputs": [
    {
     "data": {
      "text/plain": [
       "[array([[0.7499379 ],\n",
       "        [0.73624384],\n",
       "        [1.6314163 ]], dtype=float32),\n",
       " array([[1.0310099],\n",
       "        [1.2155894],\n",
       "        [1.2898754]], dtype=float32)]"
      ]
     },
     "execution_count": 87,
     "metadata": {},
     "output_type": "execute_result"
    }
   ],
   "source": [
    "model3.predict([X_new_A, X_new_B])"
   ]
  },
  {
   "cell_type": "code",
   "execution_count": 96,
   "metadata": {},
   "outputs": [
    {
     "name": "stdout",
     "output_type": "stream",
     "text": [
      "Epoch 1/10\n",
      "11610/11610 [==============================] - 1s 72us/sample - loss: 0.3594 - dense_36_loss: 0.3486 - dense_35_loss: 0.4554\n",
      "Epoch 2/10\n",
      "11610/11610 [==============================] - 1s 70us/sample - loss: 0.3968 - dense_36_loss: 0.3894 - dense_35_loss: 0.4644\n",
      "Epoch 3/10\n",
      "11610/11610 [==============================] - 1s 68us/sample - loss: 0.3657 - dense_36_loss: 0.3555 - dense_35_loss: 0.4574\n",
      "Epoch 4/10\n",
      "11610/11610 [==============================] - 1s 72us/sample - loss: 0.3577 - dense_36_loss: 0.3474 - dense_35_loss: 0.4499\n",
      "Epoch 5/10\n",
      "11610/11610 [==============================] - 1s 72us/sample - loss: 0.3552 - dense_36_loss: 0.3450 - dense_35_loss: 0.4465\n",
      "Epoch 6/10\n",
      "11610/11610 [==============================] - 1s 71us/sample - loss: 0.3530 - dense_36_loss: 0.3429 - dense_35_loss: 0.4435\n",
      "Epoch 7/10\n",
      "11610/11610 [==============================] - 1s 72us/sample - loss: 0.3508 - dense_36_loss: 0.3410 - dense_35_loss: 0.4379\n",
      "Epoch 8/10\n",
      "11610/11610 [==============================] - 1s 69us/sample - loss: 0.3502 - dense_36_loss: 0.3405 - dense_35_loss: 0.4371\n",
      "Epoch 9/10\n",
      "11610/11610 [==============================] - 1s 70us/sample - loss: 0.3502 - dense_36_loss: 0.3407 - dense_35_loss: 0.4361\n",
      "Epoch 10/10\n",
      "11610/11610 [==============================] - 1s 69us/sample - loss: 0.3491 - dense_36_loss: 0.3397 - dense_35_loss: 0.4331\n"
     ]
    }
   ],
   "source": [
    "#fit() method accepts callbacks argument that lets you specify a list of objects that Keras will call \n",
    "#at the start and end of training, at the start and end of each epoch, and even before and after processing each batch.\n",
    "\n",
    "checkpoint_cb=keras.callbacks.ModelCheckpoint(\"keras_model.h5\")\n",
    "history=model2.fit([X_train_A, X_train_B], [y_train, y_train], epochs=10, callbacks=[checkpoint_cb]) #callbacks=[], must be a list"
   ]
  },
  {
   "cell_type": "code",
   "execution_count": 102,
   "metadata": {},
   "outputs": [
    {
     "name": "stdout",
     "output_type": "stream",
     "text": [
      "Train on 11610 samples, validate on 3870 samples\n",
      "Epoch 1/10\n",
      "11610/11610 [==============================] - 1s 84us/sample - loss: 0.3501 - dense_36_loss: 0.3410 - dense_35_loss: 0.4321 - val_loss: 0.3421 - val_dense_36_loss: 0.3326 - val_dense_35_loss: 0.4284\n",
      "Epoch 2/10\n",
      "11610/11610 [==============================] - 1s 83us/sample - loss: 0.3474 - dense_36_loss: 0.3382 - dense_35_loss: 0.4295 - val_loss: 0.3490 - val_dense_36_loss: 0.3397 - val_dense_35_loss: 0.4329\n",
      "Epoch 3/10\n",
      "11610/11610 [==============================] - 1s 82us/sample - loss: 0.3464 - dense_36_loss: 0.3374 - dense_35_loss: 0.4267 - val_loss: 0.3599 - val_dense_36_loss: 0.3504 - val_dense_35_loss: 0.4467\n",
      "Epoch 4/10\n",
      "11610/11610 [==============================] - 1s 83us/sample - loss: 0.3448 - dense_36_loss: 0.3359 - dense_35_loss: 0.4259 - val_loss: 0.3420 - val_dense_36_loss: 0.3326 - val_dense_35_loss: 0.4257\n",
      "Epoch 5/10\n",
      "11610/11610 [==============================] - 1s 83us/sample - loss: 0.3447 - dense_36_loss: 0.3359 - dense_35_loss: 0.4231 - val_loss: 0.3668 - val_dense_36_loss: 0.3588 - val_dense_35_loss: 0.4387\n",
      "Epoch 6/10\n",
      "11610/11610 [==============================] - 1s 83us/sample - loss: 0.3453 - dense_36_loss: 0.3366 - dense_35_loss: 0.4237 - val_loss: 0.3407 - val_dense_36_loss: 0.3313 - val_dense_35_loss: 0.4251\n",
      "Epoch 7/10\n",
      "11610/11610 [==============================] - 1s 89us/sample - loss: 0.3435 - dense_36_loss: 0.3350 - dense_35_loss: 0.4209 - val_loss: 0.3478 - val_dense_36_loss: 0.3389 - val_dense_35_loss: 0.4280\n",
      "Epoch 8/10\n",
      "11610/11610 [==============================] - 1s 81us/sample - loss: 0.3423 - dense_36_loss: 0.3337 - dense_35_loss: 0.4202 - val_loss: 0.3446 - val_dense_36_loss: 0.3355 - val_dense_35_loss: 0.4250\n",
      "Epoch 9/10\n",
      "11610/11610 [==============================] - 1s 82us/sample - loss: 0.3429 - dense_36_loss: 0.3343 - dense_35_loss: 0.4191 - val_loss: 0.3480 - val_dense_36_loss: 0.3393 - val_dense_35_loss: 0.4258\n",
      "Epoch 10/10\n",
      "11610/11610 [==============================] - 1s 82us/sample - loss: 0.3425 - dense_36_loss: 0.3340 - dense_35_loss: 0.4186 - val_loss: 0.3415 - val_dense_36_loss: 0.3327 - val_dense_35_loss: 0.4211\n"
     ]
    }
   ],
   "source": [
    "checkpoint_cb= keras.callbacks.ModelCheckpoint(\"keras_model.h5\", save_best_only=True)\n",
    "history=model2.fit([X_train_A, X_train_B], [y_train, y_train], \n",
    "                   validation_data=([X_valid_A, X_valid_B], [y_valid, y_valid]),\n",
    "                   epochs=10, callbacks=[checkpoint_cb])\n",
    "\n",
    "#only save when the model's performance on validation set is best so far."
   ]
  },
  {
   "cell_type": "code",
   "execution_count": 103,
   "metadata": {},
   "outputs": [
    {
     "name": "stdout",
     "output_type": "stream",
     "text": [
      "11610/11610 [==============================] - 1s 69us/sample - loss: 0.3418 - dense_36_loss: 0.3337 - dense_35_loss: 0.4164\n"
     ]
    }
   ],
   "source": [
    "history=model2.fit([X_train_A, X_train_B], [y_train, y_train])"
   ]
  },
  {
   "cell_type": "code",
   "execution_count": 107,
   "metadata": {},
   "outputs": [
    {
     "name": "stdout",
     "output_type": "stream",
     "text": [
      "Train on 11610 samples, validate on 3870 samples\n",
      "Epoch 1/100\n",
      "11610/11610 [==============================] - 1s 92us/sample - loss: 0.3396 - dense_36_loss: 0.3315 - dense_35_loss: 0.4145 - val_loss: 0.3339 - val_dense_36_loss: 0.3251 - val_dense_35_loss: 0.4122\n",
      "Epoch 2/100\n",
      "11610/11610 [==============================] - 1s 89us/sample - loss: 0.3381 - dense_36_loss: 0.3301 - dense_35_loss: 0.4120 - val_loss: 0.3495 - val_dense_36_loss: 0.3419 - val_dense_35_loss: 0.4172\n",
      "Epoch 3/100\n",
      "11610/11610 [==============================] - 1s 85us/sample - loss: 0.3386 - dense_36_loss: 0.3306 - dense_35_loss: 0.4106 - val_loss: 0.3401 - val_dense_36_loss: 0.3313 - val_dense_35_loss: 0.4195\n",
      "Epoch 4/100\n",
      "11610/11610 [==============================] - 1s 82us/sample - loss: 0.3402 - dense_36_loss: 0.3321 - dense_35_loss: 0.4126 - val_loss: 0.3415 - val_dense_36_loss: 0.3330 - val_dense_35_loss: 0.4178\n",
      "Epoch 5/100\n",
      "11610/11610 [==============================] - 1s 89us/sample - loss: 0.3372 - dense_36_loss: 0.3292 - dense_35_loss: 0.4101 - val_loss: 0.3329 - val_dense_36_loss: 0.3244 - val_dense_35_loss: 0.4091\n",
      "Epoch 6/100\n",
      "11610/11610 [==============================] - 1s 87us/sample - loss: 0.3375 - dense_36_loss: 0.3294 - dense_35_loss: 0.4099 - val_loss: 0.3392 - val_dense_36_loss: 0.3305 - val_dense_35_loss: 0.4170\n",
      "Epoch 7/100\n",
      "11610/11610 [==============================] - 1s 87us/sample - loss: 0.3381 - dense_36_loss: 0.3300 - dense_35_loss: 0.4095 - val_loss: 0.3402 - val_dense_36_loss: 0.3318 - val_dense_35_loss: 0.4150\n",
      "Epoch 8/100\n",
      "11610/11610 [==============================] - 1s 87us/sample - loss: 0.3374 - dense_36_loss: 0.3296 - dense_35_loss: 0.4069 - val_loss: 0.3383 - val_dense_36_loss: 0.3298 - val_dense_35_loss: 0.4156\n",
      "Epoch 9/100\n",
      "11610/11610 [==============================] - 1s 87us/sample - loss: 0.3363 - dense_36_loss: 0.3285 - dense_35_loss: 0.4065 - val_loss: 0.3361 - val_dense_36_loss: 0.3275 - val_dense_35_loss: 0.4131\n",
      "Epoch 10/100\n",
      "11610/11610 [==============================] - 1s 87us/sample - loss: 0.3362 - dense_36_loss: 0.3286 - dense_35_loss: 0.4069 - val_loss: 0.3369 - val_dense_36_loss: 0.3285 - val_dense_35_loss: 0.4138\n",
      "Epoch 11/100\n",
      "11610/11610 [==============================] - 1s 87us/sample - loss: 0.3372 - dense_36_loss: 0.3295 - dense_35_loss: 0.4059 - val_loss: 0.3358 - val_dense_36_loss: 0.3274 - val_dense_35_loss: 0.4112\n",
      "Epoch 12/100\n",
      "11610/11610 [==============================] - 1s 86us/sample - loss: 0.3390 - dense_36_loss: 0.3317 - dense_35_loss: 0.4043 - val_loss: 0.3372 - val_dense_36_loss: 0.3294 - val_dense_35_loss: 0.4065\n",
      "Epoch 13/100\n",
      "11610/11610 [==============================] - 1s 88us/sample - loss: 0.3364 - dense_36_loss: 0.3289 - dense_35_loss: 0.4032 - val_loss: 0.3311 - val_dense_36_loss: 0.3229 - val_dense_35_loss: 0.4034\n",
      "Epoch 14/100\n",
      "11610/11610 [==============================] - 1s 94us/sample - loss: 0.3335 - dense_36_loss: 0.3260 - dense_35_loss: 0.3998 - val_loss: 0.3356 - val_dense_36_loss: 0.3272 - val_dense_35_loss: 0.4108\n",
      "Epoch 15/100\n",
      "11610/11610 [==============================] - 1s 86us/sample - loss: 0.3334 - dense_36_loss: 0.3256 - dense_35_loss: 0.4026 - val_loss: 0.3403 - val_dense_36_loss: 0.3326 - val_dense_35_loss: 0.4106\n",
      "Epoch 16/100\n",
      "11610/11610 [==============================] - 1s 81us/sample - loss: 0.3320 - dense_36_loss: 0.3245 - dense_35_loss: 0.4001 - val_loss: 0.3432 - val_dense_36_loss: 0.3354 - val_dense_35_loss: 0.4152\n",
      "Epoch 17/100\n",
      "11610/11610 [==============================] - 1s 86us/sample - loss: 0.3330 - dense_36_loss: 0.3254 - dense_35_loss: 0.4015 - val_loss: 0.3351 - val_dense_36_loss: 0.3275 - val_dense_35_loss: 0.4036\n",
      "Epoch 18/100\n",
      "11610/11610 [==============================] - 1s 86us/sample - loss: 0.3302 - dense_36_loss: 0.3228 - dense_35_loss: 0.3970 - val_loss: 0.3324 - val_dense_36_loss: 0.3243 - val_dense_35_loss: 0.4048\n",
      "Epoch 19/100\n",
      "11610/11610 [==============================] - 1s 88us/sample - loss: 0.3304 - dense_36_loss: 0.3231 - dense_35_loss: 0.3975 - val_loss: 0.3384 - val_dense_36_loss: 0.3310 - val_dense_35_loss: 0.4041\n",
      "Epoch 20/100\n",
      "11610/11610 [==============================] - 1s 87us/sample - loss: 0.3324 - dense_36_loss: 0.3252 - dense_35_loss: 0.3978 - val_loss: 0.3323 - val_dense_36_loss: 0.3247 - val_dense_35_loss: 0.4010\n",
      "Epoch 21/100\n",
      "11610/11610 [==============================] - 1s 88us/sample - loss: 0.3322 - dense_36_loss: 0.3250 - dense_35_loss: 0.3976 - val_loss: 0.3286 - val_dense_36_loss: 0.3208 - val_dense_35_loss: 0.3985\n",
      "Epoch 22/100\n",
      "11610/11610 [==============================] - 1s 87us/sample - loss: 0.3300 - dense_36_loss: 0.3228 - dense_35_loss: 0.3962 - val_loss: 0.3369 - val_dense_36_loss: 0.3288 - val_dense_35_loss: 0.4091\n",
      "Epoch 23/100\n",
      "11610/11610 [==============================] - 1s 89us/sample - loss: 0.3293 - dense_36_loss: 0.3219 - dense_35_loss: 0.3953 - val_loss: 0.3286 - val_dense_36_loss: 0.3206 - val_dense_35_loss: 0.3997\n",
      "Epoch 24/100\n",
      "11610/11610 [==============================] - 1s 88us/sample - loss: 0.3347 - dense_36_loss: 0.3280 - dense_35_loss: 0.3949 - val_loss: 0.3359 - val_dense_36_loss: 0.3288 - val_dense_35_loss: 0.4007\n",
      "Epoch 25/100\n",
      "11610/11610 [==============================] - 1s 87us/sample - loss: 0.3301 - dense_36_loss: 0.3229 - dense_35_loss: 0.3941 - val_loss: 0.3334 - val_dense_36_loss: 0.3258 - val_dense_35_loss: 0.4014\n",
      "Epoch 26/100\n",
      "11610/11610 [==============================] - 1s 84us/sample - loss: 0.3291 - dense_36_loss: 0.3218 - dense_35_loss: 0.3935 - val_loss: 0.3254 - val_dense_36_loss: 0.3177 - val_dense_35_loss: 0.3948\n",
      "Epoch 27/100\n",
      "11610/11610 [==============================] - 1s 86us/sample - loss: 0.3280 - dense_36_loss: 0.3212 - dense_35_loss: 0.3908 - val_loss: 0.3309 - val_dense_36_loss: 0.3234 - val_dense_35_loss: 0.3979\n",
      "Epoch 28/100\n",
      "11610/11610 [==============================] - 1s 87us/sample - loss: 0.3272 - dense_36_loss: 0.3200 - dense_35_loss: 0.3911 - val_loss: 0.3276 - val_dense_36_loss: 0.3203 - val_dense_35_loss: 0.3940\n",
      "Epoch 29/100\n",
      "11610/11610 [==============================] - 1s 87us/sample - loss: 0.3260 - dense_36_loss: 0.3190 - dense_35_loss: 0.3887 - val_loss: 0.3422 - val_dense_36_loss: 0.3347 - val_dense_35_loss: 0.4104\n",
      "Epoch 30/100\n",
      "11610/11610 [==============================] - 1s 86us/sample - loss: 0.3281 - dense_36_loss: 0.3211 - dense_35_loss: 0.3907 - val_loss: 0.3279 - val_dense_36_loss: 0.3205 - val_dense_35_loss: 0.3949\n",
      "Epoch 31/100\n",
      "11610/11610 [==============================] - 1s 87us/sample - loss: 0.3254 - dense_36_loss: 0.3183 - dense_35_loss: 0.3882 - val_loss: 0.3297 - val_dense_36_loss: 0.3224 - val_dense_35_loss: 0.3959\n",
      "Epoch 32/100\n",
      "11610/11610 [==============================] - 1s 87us/sample - loss: 0.3263 - dense_36_loss: 0.3193 - dense_35_loss: 0.3885 - val_loss: 0.3298 - val_dense_36_loss: 0.3224 - val_dense_35_loss: 0.3960\n",
      "Epoch 33/100\n",
      "11610/11610 [==============================] - 1s 87us/sample - loss: 0.3266 - dense_36_loss: 0.3197 - dense_35_loss: 0.3878 - val_loss: 0.3294 - val_dense_36_loss: 0.3220 - val_dense_35_loss: 0.3946\n",
      "Epoch 34/100\n",
      "11610/11610 [==============================] - 1s 93us/sample - loss: 0.3254 - dense_36_loss: 0.3184 - dense_35_loss: 0.3876 - val_loss: 0.3449 - val_dense_36_loss: 0.3378 - val_dense_35_loss: 0.4097\n",
      "Epoch 35/100\n",
      "11610/11610 [==============================] - 1s 86us/sample - loss: 0.3278 - dense_36_loss: 0.3211 - dense_35_loss: 0.3893 - val_loss: 0.3344 - val_dense_36_loss: 0.3269 - val_dense_35_loss: 0.4005\n",
      "Epoch 36/100\n",
      "11610/11610 [==============================] - 1s 93us/sample - loss: 0.3244 - dense_36_loss: 0.3176 - dense_35_loss: 0.3858 - val_loss: 0.3432 - val_dense_36_loss: 0.3360 - val_dense_35_loss: 0.4094\n"
     ]
    }
   ],
   "source": [
    "earlystopping_cb = keras.callbacks.EarlyStopping(patience=10, restore_best_weights=True)\n",
    "history=model2.fit([X_train_A, X_train_B], [y_train, y_train], epochs= 100,\n",
    "                  validation_data=([X_valid_A, X_valid_B], [y_valid, y_valid]),\n",
    "                  callbacks=[checkpoint_cb, earlystopping_cb]\n",
    "                  )"
   ]
  },
  {
   "cell_type": "code",
   "execution_count": 109,
   "metadata": {},
   "outputs": [],
   "source": [
    "class PrintValTrainRatioCallback (keras.callbacks.Callback):\n",
    "    def on_epoch_end(self, epoch, logs):\n",
    "        print(\"\\nval/train: {:.2f}\".format(logs[\"val_loss\"]/logs[\"loss\"]))"
   ]
  },
  {
   "cell_type": "code",
   "execution_count": null,
   "metadata": {},
   "outputs": [],
   "source": []
  }
 ],
 "metadata": {
  "kernelspec": {
   "display_name": "Python 3",
   "language": "python",
   "name": "python3"
  },
  "language_info": {
   "codemirror_mode": {
    "name": "ipython",
    "version": 3
   },
   "file_extension": ".py",
   "mimetype": "text/x-python",
   "name": "python",
   "nbconvert_exporter": "python",
   "pygments_lexer": "ipython3",
   "version": "3.7.6"
  }
 },
 "nbformat": 4,
 "nbformat_minor": 4
}
