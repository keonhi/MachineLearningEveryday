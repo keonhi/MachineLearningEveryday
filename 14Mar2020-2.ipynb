{
 "cells": [
  {
   "cell_type": "code",
   "execution_count": null,
   "metadata": {},
   "outputs": [],
   "source": [
    "from sklearn.cluster import KMeans\n",
    "\n",
    "k=5\n",
    "kmeans=KMeans(n_clusters=k)\n",
    "y_pred=kmeans.fit_predict(X)"
   ]
  },
  {
   "cell_type": "code",
   "execution_count": null,
   "metadata": {},
   "outputs": [],
   "source": [
    "y_pred"
   ]
  },
  {
   "cell_type": "code",
   "execution_count": null,
   "metadata": {},
   "outputs": [],
   "source": [
    "y_pred is kmeans.labels_"
   ]
  },
  {
   "cell_type": "code",
   "execution_count": null,
   "metadata": {},
   "outputs": [],
   "source": [
    "kmeans.cluster_centers_"
   ]
  },
  {
   "cell_type": "code",
   "execution_count": null,
   "metadata": {},
   "outputs": [],
   "source": [
    "X_new= np.array([[0,2], [3,2], [-3,3],[-3, 2.5]])"
   ]
  },
  {
   "cell_type": "code",
   "execution_count": null,
   "metadata": {},
   "outputs": [],
   "source": [
    "kmeans.predict(X_new) #array([1, 1, 2, 2])"
   ]
  },
  {
   "cell_type": "code",
   "execution_count": null,
   "metadata": {},
   "outputs": [],
   "source": [
    "kmeans.transform(X_new) #distance from each instance to every centroid"
   ]
  },
  {
   "cell_type": "code",
   "execution_count": null,
   "metadata": {},
   "outputs": [],
   "source": [
    "kmeans.inertia_"
   ]
  },
  {
   "cell_type": "code",
   "execution_count": null,
   "metadata": {},
   "outputs": [],
   "source": [
    "kmeans.score(X)"
   ]
  },
  {
   "cell_type": "code",
   "execution_count": null,
   "metadata": {},
   "outputs": [],
   "source": [
    "from sklearn.cluster import MiniBatchKMeans\n",
    "minibatch_kmeans=MiniBatchKMeans(n_clusters=5)\n",
    "minibatch_kmeans.fit(X)"
   ]
  },
  {
   "cell_type": "code",
   "execution_count": null,
   "metadata": {},
   "outputs": [],
   "source": [
    "from sklearn.metrics import silhouette_score\n",
    "silhouette_score(X, kmeans.labels_)"
   ]
  },
  {
   "cell_type": "code",
   "execution_count": 2,
   "metadata": {},
   "outputs": [
    {
     "data": {
      "text/plain": [
       "(533, 800, 3)"
      ]
     },
     "execution_count": 2,
     "metadata": {},
     "output_type": "execute_result"
    }
   ],
   "source": [
    "import os\n",
    "from matplotlib.image import imread\n",
    "image=imread(os.path.join(\"ladybug.png\"))\n",
    "image.shape #height 553, width 800, colors 3(RGB)"
   ]
  },
  {
   "cell_type": "code",
   "execution_count": 3,
   "metadata": {},
   "outputs": [
    {
     "data": {
      "text/plain": [
       "array([[[0.09803922, 0.11372549, 0.00784314],\n",
       "        [0.09411765, 0.10980392, 0.00392157],\n",
       "        [0.09411765, 0.11372549, 0.        ],\n",
       "        ...,\n",
       "        [0.22352941, 0.4117647 , 0.08235294],\n",
       "        [0.21960784, 0.40392157, 0.08627451],\n",
       "        [0.20392157, 0.3882353 , 0.07450981]],\n",
       "\n",
       "       [[0.09411765, 0.10980392, 0.00392157],\n",
       "        [0.09019608, 0.10588235, 0.        ],\n",
       "        [0.09019608, 0.10588235, 0.        ],\n",
       "        ...,\n",
       "        [0.23529412, 0.42352942, 0.08627451],\n",
       "        [0.23137255, 0.41568628, 0.09803922],\n",
       "        [0.21568628, 0.4       , 0.08627451]],\n",
       "\n",
       "       [[0.09019608, 0.10588235, 0.00784314],\n",
       "        [0.08627451, 0.10196079, 0.00392157],\n",
       "        [0.08627451, 0.10196079, 0.        ],\n",
       "        ...,\n",
       "        [0.25882354, 0.44705883, 0.10980392],\n",
       "        [0.24705882, 0.43529412, 0.10588235],\n",
       "        [0.22745098, 0.4117647 , 0.09411765]],\n",
       "\n",
       "       ...,\n",
       "\n",
       "       [[0.05490196, 0.07058824, 0.00392157],\n",
       "        [0.05490196, 0.07058824, 0.00392157],\n",
       "        [0.05098039, 0.07843138, 0.00784314],\n",
       "        ...,\n",
       "        [0.05098039, 0.23921569, 0.01176471],\n",
       "        [0.03529412, 0.21960784, 0.00784314],\n",
       "        [0.01960784, 0.2       , 0.00784314]],\n",
       "\n",
       "       [[0.05490196, 0.07058824, 0.00392157],\n",
       "        [0.05490196, 0.07058824, 0.00392157],\n",
       "        [0.04705882, 0.07450981, 0.00392157],\n",
       "        ...,\n",
       "        [0.04313726, 0.23137255, 0.00392157],\n",
       "        [0.02745098, 0.21176471, 0.        ],\n",
       "        [0.01176471, 0.19215687, 0.        ]],\n",
       "\n",
       "       [[0.05098039, 0.06666667, 0.        ],\n",
       "        [0.05098039, 0.06666667, 0.        ],\n",
       "        [0.04313726, 0.07058824, 0.        ],\n",
       "        ...,\n",
       "        [0.03921569, 0.22745098, 0.        ],\n",
       "        [0.01960784, 0.20392157, 0.        ],\n",
       "        [0.00784314, 0.1882353 , 0.        ]]], dtype=float32)"
      ]
     },
     "execution_count": 3,
     "metadata": {},
     "output_type": "execute_result"
    }
   ],
   "source": [
    "image"
   ]
  },
  {
   "cell_type": "code",
   "execution_count": 4,
   "metadata": {},
   "outputs": [],
   "source": [
    "X=image.reshape(-1, 3)"
   ]
  },
  {
   "cell_type": "code",
   "execution_count": 5,
   "metadata": {},
   "outputs": [
    {
     "data": {
      "text/plain": [
       "array([[0.09803922, 0.11372549, 0.00784314],\n",
       "       [0.09411765, 0.10980392, 0.00392157],\n",
       "       [0.09411765, 0.11372549, 0.        ],\n",
       "       ...,\n",
       "       [0.03921569, 0.22745098, 0.        ],\n",
       "       [0.01960784, 0.20392157, 0.        ],\n",
       "       [0.00784314, 0.1882353 , 0.        ]], dtype=float32)"
      ]
     },
     "execution_count": 5,
     "metadata": {},
     "output_type": "execute_result"
    }
   ],
   "source": [
    "X"
   ]
  },
  {
   "cell_type": "code",
   "execution_count": 7,
   "metadata": {},
   "outputs": [],
   "source": [
    "from sklearn.cluster import KMeans"
   ]
  },
  {
   "cell_type": "code",
   "execution_count": 8,
   "metadata": {},
   "outputs": [],
   "source": [
    "kmeans=KMeans(n_clusters=8)"
   ]
  },
  {
   "cell_type": "code",
   "execution_count": 9,
   "metadata": {},
   "outputs": [],
   "source": [
    "k_clu=kmeans.fit(X)"
   ]
  },
  {
   "cell_type": "code",
   "execution_count": 10,
   "metadata": {},
   "outputs": [],
   "source": [
    "segmented_img=k_clu.cluster_centers_[kmeans.labels_]"
   ]
  },
  {
   "cell_type": "code",
   "execution_count": 11,
   "metadata": {},
   "outputs": [],
   "source": [
    "segmented_img=segmented_img.reshape(image.shape)"
   ]
  },
  {
   "cell_type": "code",
   "execution_count": 12,
   "metadata": {},
   "outputs": [
    {
     "data": {
      "text/plain": [
       "array([[[0.02103791, 0.10643876, 0.00561932],\n",
       "        [0.02103791, 0.10643876, 0.00561932],\n",
       "        [0.02103791, 0.10643876, 0.00561932],\n",
       "        ...,\n",
       "        [0.20925015, 0.37658414, 0.05342072],\n",
       "        [0.20925015, 0.37658414, 0.05342072],\n",
       "        [0.20925015, 0.37658414, 0.05342072]],\n",
       "\n",
       "       [[0.02103791, 0.10643876, 0.00561932],\n",
       "        [0.02103791, 0.10643876, 0.00561932],\n",
       "        [0.02103791, 0.10643876, 0.00561932],\n",
       "        ...,\n",
       "        [0.20925015, 0.37658414, 0.05342072],\n",
       "        [0.20925015, 0.37658414, 0.05342072],\n",
       "        [0.20925015, 0.37658414, 0.05342072]],\n",
       "\n",
       "       [[0.02103791, 0.10643876, 0.00561932],\n",
       "        [0.02103791, 0.10643876, 0.00561932],\n",
       "        [0.02103791, 0.10643876, 0.00561932],\n",
       "        ...,\n",
       "        [0.20925015, 0.37658414, 0.05342072],\n",
       "        [0.20925015, 0.37658414, 0.05342072],\n",
       "        [0.20925015, 0.37658414, 0.05342072]],\n",
       "\n",
       "       ...,\n",
       "\n",
       "       [[0.02103791, 0.10643876, 0.00561932],\n",
       "        [0.02103791, 0.10643876, 0.00561932],\n",
       "        [0.02103791, 0.10643876, 0.00561932],\n",
       "        ...,\n",
       "        [0.09248036, 0.2445226 , 0.01540019],\n",
       "        [0.09248036, 0.2445226 , 0.01540019],\n",
       "        [0.09248036, 0.2445226 , 0.01540019]],\n",
       "\n",
       "       [[0.02103791, 0.10643876, 0.00561932],\n",
       "        [0.02103791, 0.10643876, 0.00561932],\n",
       "        [0.02103791, 0.10643876, 0.00561932],\n",
       "        ...,\n",
       "        [0.09248036, 0.2445226 , 0.01540019],\n",
       "        [0.09248036, 0.2445226 , 0.01540019],\n",
       "        [0.02103791, 0.10643876, 0.00561932]],\n",
       "\n",
       "       [[0.02103791, 0.10643876, 0.00561932],\n",
       "        [0.02103791, 0.10643876, 0.00561932],\n",
       "        [0.02103791, 0.10643876, 0.00561932],\n",
       "        ...,\n",
       "        [0.09248036, 0.2445226 , 0.01540019],\n",
       "        [0.09248036, 0.2445226 , 0.01540019],\n",
       "        [0.02103791, 0.10643876, 0.00561932]]], dtype=float32)"
      ]
     },
     "execution_count": 12,
     "metadata": {},
     "output_type": "execute_result"
    }
   ],
   "source": [
    "segmented_img"
   ]
  },
  {
   "cell_type": "code",
   "execution_count": null,
   "metadata": {},
   "outputs": [],
   "source": []
  }
 ],
 "metadata": {
  "kernelspec": {
   "display_name": "Python 3",
   "language": "python",
   "name": "python3"
  },
  "language_info": {
   "codemirror_mode": {
    "name": "ipython",
    "version": 3
   },
   "file_extension": ".py",
   "mimetype": "text/x-python",
   "name": "python",
   "nbconvert_exporter": "python",
   "pygments_lexer": "ipython3",
   "version": "3.7.6"
  }
 },
 "nbformat": 4,
 "nbformat_minor": 4
}
