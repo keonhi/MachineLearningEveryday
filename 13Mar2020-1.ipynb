{
 "cells": [
  {
   "cell_type": "code",
   "execution_count": 1,
   "metadata": {},
   "outputs": [],
   "source": [
    "from sklearn.ensemble import RandomForestClassifier\n",
    "from sklearn.ensemble import VotingClassifier\n",
    "from sklearn.linear_model import LogisticRegression\n",
    "from sklearn.svm import SVC\n",
    "\n",
    "log_clf=LogisticRegression()\n",
    "rnd_clf=RandomForestClassifier()\n",
    "svc_clf=SVC()\n",
    "\n",
    "vot_clf=VotingClassifier(\n",
    "    estimators=[('lr', log_clf), ('rf', rnd_clf), ('svc', svc_clf)],\n",
    "    voting='hard'   \n",
    ")"
   ]
  },
  {
   "cell_type": "code",
   "execution_count": 2,
   "metadata": {},
   "outputs": [
    {
     "data": {
      "text/plain": [
       "dict_keys(['data', 'target', 'frame', 'feature_names', 'target_names', 'DESCR', 'details', 'categories', 'url'])"
      ]
     },
     "execution_count": 2,
     "metadata": {},
     "output_type": "execute_result"
    }
   ],
   "source": [
    "from sklearn.datasets import fetch_openml\n",
    "mnist= fetch_openml('mnist_784', version=1)\n",
    "mnist.keys()"
   ]
  },
  {
   "cell_type": "code",
   "execution_count": 3,
   "metadata": {},
   "outputs": [],
   "source": [
    "X=mnist[\"data\"]\n",
    "y=mnist[\"target\"]"
   ]
  },
  {
   "cell_type": "code",
   "execution_count": 6,
   "metadata": {},
   "outputs": [],
   "source": [
    "X_train, X_test, y_train, y_test =X[:60000], X[60000:], y[:60000], y[60000:]"
   ]
  },
  {
   "cell_type": "code",
   "execution_count": 7,
   "metadata": {},
   "outputs": [
    {
     "name": "stderr",
     "output_type": "stream",
     "text": [
      "C:\\Users\\keonhi\\anaconda3\\lib\\site-packages\\sklearn\\linear_model\\_logistic.py:940: ConvergenceWarning: lbfgs failed to converge (status=1):\n",
      "STOP: TOTAL NO. of ITERATIONS REACHED LIMIT.\n",
      "\n",
      "Increase the number of iterations (max_iter) or scale the data as shown in:\n",
      "    https://scikit-learn.org/stable/modules/preprocessing.html\n",
      "Please also refer to the documentation for alternative solver options:\n",
      "    https://scikit-learn.org/stable/modules/linear_model.html#logistic-regression\n",
      "  extra_warning_msg=_LOGISTIC_SOLVER_CONVERGENCE_MSG)\n"
     ]
    },
    {
     "data": {
      "text/plain": [
       "VotingClassifier(estimators=[('lr',\n",
       "                              LogisticRegression(C=1.0, class_weight=None,\n",
       "                                                 dual=False, fit_intercept=True,\n",
       "                                                 intercept_scaling=1,\n",
       "                                                 l1_ratio=None, max_iter=100,\n",
       "                                                 multi_class='auto',\n",
       "                                                 n_jobs=None, penalty='l2',\n",
       "                                                 random_state=None,\n",
       "                                                 solver='lbfgs', tol=0.0001,\n",
       "                                                 verbose=0, warm_start=False)),\n",
       "                             ('rf',\n",
       "                              RandomForestClassifier(bootstrap=True,\n",
       "                                                     ccp_alpha=0.0,\n",
       "                                                     class_weight=None,\n",
       "                                                     cr...\n",
       "                                                     oob_score=False,\n",
       "                                                     random_state=None,\n",
       "                                                     verbose=0,\n",
       "                                                     warm_start=False)),\n",
       "                             ('svc',\n",
       "                              SVC(C=1.0, break_ties=False, cache_size=200,\n",
       "                                  class_weight=None, coef0=0.0,\n",
       "                                  decision_function_shape='ovr', degree=3,\n",
       "                                  gamma='scale', kernel='rbf', max_iter=-1,\n",
       "                                  probability=False, random_state=None,\n",
       "                                  shrinking=True, tol=0.001, verbose=False))],\n",
       "                 flatten_transform=True, n_jobs=None, voting='hard',\n",
       "                 weights=None)"
      ]
     },
     "execution_count": 7,
     "metadata": {},
     "output_type": "execute_result"
    }
   ],
   "source": [
    "vot_clf.fit(X_train, y_train)"
   ]
  },
  {
   "cell_type": "code",
   "execution_count": 8,
   "metadata": {},
   "outputs": [
    {
     "name": "stderr",
     "output_type": "stream",
     "text": [
      "C:\\Users\\keonhi\\anaconda3\\lib\\site-packages\\sklearn\\linear_model\\_logistic.py:940: ConvergenceWarning: lbfgs failed to converge (status=1):\n",
      "STOP: TOTAL NO. of ITERATIONS REACHED LIMIT.\n",
      "\n",
      "Increase the number of iterations (max_iter) or scale the data as shown in:\n",
      "    https://scikit-learn.org/stable/modules/preprocessing.html\n",
      "Please also refer to the documentation for alternative solver options:\n",
      "    https://scikit-learn.org/stable/modules/linear_model.html#logistic-regression\n",
      "  extra_warning_msg=_LOGISTIC_SOLVER_CONVERGENCE_MSG)\n"
     ]
    },
    {
     "name": "stdout",
     "output_type": "stream",
     "text": [
      "LogisticRegression 0.9255\n",
      "RandomForestClassifier 0.9699\n",
      "SVC 0.9792\n"
     ]
    },
    {
     "name": "stderr",
     "output_type": "stream",
     "text": [
      "C:\\Users\\keonhi\\anaconda3\\lib\\site-packages\\sklearn\\linear_model\\_logistic.py:940: ConvergenceWarning: lbfgs failed to converge (status=1):\n",
      "STOP: TOTAL NO. of ITERATIONS REACHED LIMIT.\n",
      "\n",
      "Increase the number of iterations (max_iter) or scale the data as shown in:\n",
      "    https://scikit-learn.org/stable/modules/preprocessing.html\n",
      "Please also refer to the documentation for alternative solver options:\n",
      "    https://scikit-learn.org/stable/modules/linear_model.html#logistic-regression\n",
      "  extra_warning_msg=_LOGISTIC_SOLVER_CONVERGENCE_MSG)\n"
     ]
    },
    {
     "name": "stdout",
     "output_type": "stream",
     "text": [
      "VotingClassifier 0.9718\n"
     ]
    }
   ],
   "source": [
    "X_train, X_test, y_train, y_test =X[:60000], X[60000:], y[:60000], y[60000:]\n",
    "from sklearn.metrics import accuracy_score\n",
    "for clf in (log_clf, rnd_clf, svc_clf, vot_clf):\n",
    "    clf.fit(X_train, y_train)\n",
    "    y_pred = clf.predict(X_test)\n",
    "    print(clf.__class__.__name__, accuracy_score(y_test, y_pred))"
   ]
  },
  {
   "cell_type": "code",
   "execution_count": 13,
   "metadata": {},
   "outputs": [],
   "source": [
    "from sklearn.ensemble import BaggingClassifier\n",
    "from sklearn.tree import DecisionTreeClassifier\n",
    "\n",
    "bag_clf = BaggingClassifier(\n",
    "    DecisionTreeClassifier(), \n",
    "    n_estimators=500, #number of classifiers\n",
    "    max_samples=100, #number of instances to train per classifier\n",
    "    bootstrap=True, #with replacement\n",
    "    n_jobs=6, #use 6 cores of CPU\n",
    "    oob_score=True\n",
    ")"
   ]
  },
  {
   "cell_type": "code",
   "execution_count": 14,
   "metadata": {},
   "outputs": [
    {
     "data": {
      "text/plain": [
       "0.846"
      ]
     },
     "execution_count": 14,
     "metadata": {},
     "output_type": "execute_result"
    }
   ],
   "source": [
    "bag_clf.fit(X_train, y_train)\n",
    "y_pred=bag_clf.predict(X_test)\n",
    "accuracy_score(y_test, y_pred)"
   ]
  },
  {
   "cell_type": "code",
   "execution_count": 15,
   "metadata": {},
   "outputs": [
    {
     "data": {
      "text/plain": [
       "0.8390166666666666"
      ]
     },
     "execution_count": 15,
     "metadata": {},
     "output_type": "execute_result"
    }
   ],
   "source": [
    "bag_clf.oob_score_"
   ]
  },
  {
   "cell_type": "code",
   "execution_count": 16,
   "metadata": {},
   "outputs": [
    {
     "data": {
      "text/plain": [
       "array([[0.04016064, 0.08232932, 0.05823293, ..., 0.10441767, 0.062249  ,\n",
       "        0.06626506],\n",
       "       [0.78      , 0.008     , 0.01      , ..., 0.03      , 0.012     ,\n",
       "        0.022     ],\n",
       "       [0.038     , 0.06      , 0.08      , ..., 0.074     , 0.028     ,\n",
       "        0.1       ],\n",
       "       ...,\n",
       "       [0.01603206, 0.03206413, 0.0240481 , ..., 0.12825651, 0.08016032,\n",
       "        0.15831663],\n",
       "       [0.18      , 0.03      , 0.08      , ..., 0.084     , 0.022     ,\n",
       "        0.084     ],\n",
       "       [0.092     , 0.054     , 0.14      , ..., 0.078     , 0.19      ,\n",
       "        0.106     ]])"
      ]
     },
     "execution_count": 16,
     "metadata": {},
     "output_type": "execute_result"
    }
   ],
   "source": [
    "bag_clf.oob_decision_function_"
   ]
  },
  {
   "cell_type": "code",
   "execution_count": 17,
   "metadata": {},
   "outputs": [],
   "source": [
    "rnd_clf = RandomForestClassifier(n_estimators=500, max_leaf_nodes=16, n_jobs=-1)\n",
    "rnd_clf.fit(X_train, y_train)\n",
    "y_pred_rf =rnd_clf.predict(X_test)"
   ]
  },
  {
   "cell_type": "code",
   "execution_count": 18,
   "metadata": {},
   "outputs": [],
   "source": [
    "bag_clf =BaggingClassifier(\n",
    "    DecisionTreeClassifier(splitter=\"random\", max_leaf_nodes=16),\n",
    "    n_estimators=500,\n",
    "    max_samples=1.0,\n",
    "    n_jobs=6,\n",
    "    bootstrap=True\n",
    ")"
   ]
  },
  {
   "cell_type": "code",
   "execution_count": 19,
   "metadata": {},
   "outputs": [
    {
     "name": "stdout",
     "output_type": "stream",
     "text": [
      "sepal length (cm) 0.09510487505427809\n",
      "sepal width (cm) 0.024192800633195927\n",
      "petal length (cm) 0.44130844604487207\n",
      "petal width (cm) 0.4393938782676539\n"
     ]
    }
   ],
   "source": [
    "from sklearn.datasets import load_iris\n",
    "iris=load_iris()\n",
    "rnd_clf=RandomForestClassifier(n_estimators=500, n_jobs=6)\n",
    "rnd_clf.fit(iris[\"data\"], iris[\"target\"])\n",
    "for name, score in zip(iris[\"feature_names\"], rnd_clf.feature_importances_):\n",
    "    print(name, score)"
   ]
  },
  {
   "cell_type": "code",
   "execution_count": 20,
   "metadata": {},
   "outputs": [
    {
     "data": {
      "text/plain": [
       "AdaBoostClassifier(algorithm='SAMME.R',\n",
       "                   base_estimator=DecisionTreeClassifier(ccp_alpha=0.0,\n",
       "                                                         class_weight=None,\n",
       "                                                         criterion='gini',\n",
       "                                                         max_depth=1,\n",
       "                                                         max_features=None,\n",
       "                                                         max_leaf_nodes=None,\n",
       "                                                         min_impurity_decrease=0.0,\n",
       "                                                         min_impurity_split=None,\n",
       "                                                         min_samples_leaf=1,\n",
       "                                                         min_samples_split=2,\n",
       "                                                         min_weight_fraction_leaf=0.0,\n",
       "                                                         presort='deprecated',\n",
       "                                                         random_state=None,\n",
       "                                                         splitter='best'),\n",
       "                   learning_rate=0.5, n_estimators=200, random_state=None)"
      ]
     },
     "execution_count": 20,
     "metadata": {},
     "output_type": "execute_result"
    }
   ],
   "source": [
    "from sklearn.ensemble import AdaBoostClassifier\n",
    "\n",
    "ada_clf=AdaBoostClassifier(\n",
    "    DecisionTreeClassifier(max_depth=1), n_estimators=200, algorithm=\"SAMME.R\", learning_rate=0.5\n",
    ")\n",
    "ada_clf.fit(X_train, y_train)"
   ]
  },
  {
   "cell_type": "code",
   "execution_count": 33,
   "metadata": {},
   "outputs": [
    {
     "data": {
      "text/plain": [
       "DecisionTreeRegressor(ccp_alpha=0.0, criterion='mse', max_depth=2,\n",
       "                      max_features=None, max_leaf_nodes=None,\n",
       "                      min_impurity_decrease=0.0, min_impurity_split=None,\n",
       "                      min_samples_leaf=1, min_samples_split=2,\n",
       "                      min_weight_fraction_leaf=0.0, presort='deprecated',\n",
       "                      random_state=None, splitter='best')"
      ]
     },
     "execution_count": 33,
     "metadata": {},
     "output_type": "execute_result"
    }
   ],
   "source": [
    "from sklearn.tree import DecisionTreeRegressor\n",
    "import numpy as np\n",
    "\n",
    "tree_reg1=DecisionTreeRegressor(max_depth=2)\n",
    "tree_reg1.fit(X,y)\n",
    "\n",
    "y2=y.astype(np.float)-tree_reg1.predict(X)\n",
    "tree_reg2=DecisionTreeRegressor(max_depth=2)\n",
    "tree_reg2.fit(X,y2)\n",
    "\n",
    "y3=y2-tree_reg2.predict(X)\n",
    "tree_reg3=DecisionTreeRegressor(max_depth=2)\n",
    "tree_reg3.fit(X,y3)"
   ]
  },
  {
   "cell_type": "code",
   "execution_count": 48,
   "metadata": {},
   "outputs": [],
   "source": [
    "X_new=np.random.randn(1,784)"
   ]
  },
  {
   "cell_type": "code",
   "execution_count": 49,
   "metadata": {},
   "outputs": [
    {
     "data": {
      "text/plain": [
       "array([[ 6.40071287e-01, -1.17058139e+00,  1.14379697e+00,\n",
       "         6.93492672e-01, -1.39763796e+00, -1.34321187e+00,\n",
       "        -1.12710710e+00, -1.13248854e+00, -1.04249913e-01,\n",
       "        -5.23886901e-02,  9.66537137e-01,  1.00270698e-01,\n",
       "        -6.23573062e-01,  7.58212126e-01, -1.14564423e+00,\n",
       "        -6.92282759e-01, -7.50038192e-01,  8.55912640e-01,\n",
       "        -2.68761961e-01, -5.73269502e-01,  3.89128816e-01,\n",
       "        -2.73841431e-02,  5.68137727e-01,  1.34254372e+00,\n",
       "         4.84418799e-01,  1.15318386e+00, -1.02924725e+00,\n",
       "         2.10145703e+00,  1.38212512e+00, -1.73673144e-01,\n",
       "        -7.67261183e-01,  5.54046821e-02, -1.46911030e+00,\n",
       "        -7.51825749e-01, -5.07224727e-02,  2.31452543e-01,\n",
       "        -2.80208246e-01, -8.61112416e-01, -6.98895560e-01,\n",
       "         3.16422968e-01, -4.92796362e-01, -6.05150074e-01,\n",
       "        -1.11378080e-01, -1.21883574e+00,  2.28612573e+00,\n",
       "         1.10109188e+00, -1.13276300e+00,  1.72480180e+00,\n",
       "         1.66646788e-01,  9.97444093e-01, -1.11462907e+00,\n",
       "         1.33358366e+00, -1.98974194e-02, -1.39305874e+00,\n",
       "        -4.50376476e-01, -5.80216453e-01, -9.89572315e-01,\n",
       "        -4.89589654e-01,  8.32045723e-01, -5.10007105e-01,\n",
       "         3.19134741e-01,  2.27362798e-01, -5.10906378e-01,\n",
       "         4.95529088e-01,  1.25580754e+00, -1.16602763e-01,\n",
       "        -3.40127531e-01, -5.56021240e-02, -2.71207173e-01,\n",
       "        -1.02520371e-01, -1.13457970e+00,  9.17684529e-01,\n",
       "         4.95504034e-01, -2.80517095e-02,  1.48884560e+00,\n",
       "        -1.06728792e+00, -3.62511345e-01, -4.58755021e-01,\n",
       "        -8.76303177e-01, -1.21055785e+00, -1.68325754e-01,\n",
       "        -5.71554797e-01,  5.67647009e-01, -1.12656736e+00,\n",
       "        -1.55935034e-01, -1.40084715e+00, -1.61162471e-01,\n",
       "        -1.14780951e+00, -3.18974365e-01, -5.10508964e-01,\n",
       "         2.76783222e-02,  8.01804132e-01, -2.24918837e-01,\n",
       "        -1.02270614e+00,  1.29449578e+00, -7.54593160e-02,\n",
       "        -4.29496957e-01, -5.74054041e-01,  1.97129284e+00,\n",
       "        -1.65426817e+00, -3.11698121e-01, -5.48795775e-02,\n",
       "        -7.42968731e-01,  8.98623948e-01, -4.05155456e-01,\n",
       "         4.18679649e-01, -1.18399648e+00,  5.21655210e-01,\n",
       "        -1.09057024e+00,  4.30764605e-01,  8.26957850e-01,\n",
       "        -9.99369104e-01, -8.04346790e-01, -6.96035452e-01,\n",
       "         2.54712353e+00,  3.24816374e-01,  2.39213682e+00,\n",
       "         4.04187858e-02, -9.96057740e-01,  1.67417716e+00,\n",
       "         6.89091213e-01, -9.68707656e-01,  8.35769995e-01,\n",
       "         2.92305099e-01, -2.62130701e-01,  5.88008707e-01,\n",
       "         4.81605740e-01,  6.70739098e-01, -3.45859169e-01,\n",
       "        -1.33625957e+00, -1.56434761e-01, -1.22643101e+00,\n",
       "         9.32528534e-01, -1.95619969e+00, -1.01165865e+00,\n",
       "        -1.74742901e+00,  2.02399170e+00, -9.28231178e-01,\n",
       "         4.15228673e-01,  8.55642403e-01,  1.35640297e-01,\n",
       "         3.85109530e-01, -2.38375573e+00, -2.64165817e+00,\n",
       "        -2.80072855e-01,  1.46650695e+00,  8.26376570e-01,\n",
       "         1.25767604e+00,  1.82432683e+00, -1.26587772e-01,\n",
       "        -8.39309129e-01, -1.08831823e+00, -9.99257025e-01,\n",
       "        -1.63518902e+00, -1.23855734e+00, -6.13910667e-01,\n",
       "        -2.09308410e+00, -4.40127909e-02, -3.14840844e-01,\n",
       "        -1.60676106e+00,  1.43777393e+00, -2.26663599e-01,\n",
       "         7.86524066e-01,  6.01096549e-01, -1.32813386e+00,\n",
       "        -3.41770159e-01,  1.30562012e+00, -2.49502142e+00,\n",
       "        -1.33685845e+00, -1.01216209e+00, -1.05603054e+00,\n",
       "        -1.43027241e-01, -1.01282304e+00,  6.16563054e-02,\n",
       "        -1.02457504e-01,  8.89988044e-01, -4.03542685e-01,\n",
       "        -1.28134468e+00,  1.01673706e+00,  2.92728859e-01,\n",
       "        -1.58874520e+00,  6.97416113e-01, -1.09712538e+00,\n",
       "         7.61629952e-01, -2.12936974e+00,  6.23858135e-01,\n",
       "         1.92371798e+00,  5.97956221e-01, -8.46166290e-01,\n",
       "        -1.02159631e-01, -1.65139352e-02, -9.75901513e-01,\n",
       "         9.39287486e-01,  1.10701326e+00,  9.52516118e-01,\n",
       "         2.72379877e-01,  1.22519153e+00,  7.83282843e-01,\n",
       "        -8.21745478e-01, -8.64734596e-02, -6.69573070e-01,\n",
       "        -4.10728658e-01,  1.30688926e+00,  1.47876551e-01,\n",
       "         2.94630760e-01, -6.09596577e-01,  1.06020285e+00,\n",
       "        -1.17006594e+00, -1.00210109e+00,  1.32051569e+00,\n",
       "         2.34217284e+00,  2.60539225e-01,  1.15767113e-01,\n",
       "        -2.57781980e-01,  2.39149039e+00, -1.08513639e-01,\n",
       "        -7.59687889e-01, -5.58369588e-01, -3.05626956e-01,\n",
       "        -2.34324390e+00,  1.15971532e-02,  1.25799232e+00,\n",
       "        -1.68056081e+00,  4.85710389e-01,  7.95728610e-02,\n",
       "        -9.32507371e-01,  1.37782587e+00, -9.54540446e-01,\n",
       "         9.02646269e-01, -1.89674326e-01,  4.64697862e-01,\n",
       "         8.88484376e-01,  2.13442920e-01,  5.88405409e-01,\n",
       "         1.13656784e+00, -7.55674160e-01, -8.26854823e-01,\n",
       "        -9.50029293e-01, -5.25926767e-01, -1.98385481e+00,\n",
       "        -2.66452141e+00,  3.96974740e-01,  1.19692596e+00,\n",
       "        -5.99800875e-01, -7.52650696e-01, -5.66268898e-01,\n",
       "         9.03193047e-02, -4.47118449e-01,  6.60900532e-02,\n",
       "         7.93847948e-01, -6.94601455e-01,  1.01415320e-01,\n",
       "         6.07645025e-01, -2.30407360e-01,  1.13440732e+00,\n",
       "         1.68742293e+00, -1.32944317e+00,  6.37863649e-02,\n",
       "        -1.23468581e+00, -6.33606243e-01, -8.41920483e-02,\n",
       "         6.66024419e-01, -2.76218767e-01,  1.15381662e+00,\n",
       "         1.09569121e-01, -1.53207528e-01, -1.52485642e+00,\n",
       "        -3.88225550e-01, -7.67742201e-01,  8.60202875e-01,\n",
       "         6.63599282e-02, -2.08478708e+00,  1.18527097e+00,\n",
       "        -1.70435827e-01, -4.99569020e-01,  1.23614855e-01,\n",
       "         1.13874696e+00,  6.13710251e-01, -1.28715764e+00,\n",
       "        -1.33288952e-02,  2.32405672e+00, -2.66136436e-01,\n",
       "         5.24467405e-01,  8.56296120e-01, -1.18767647e+00,\n",
       "         7.67532729e-01,  5.05051260e-01, -9.42329314e-03,\n",
       "        -4.81981004e-01,  1.16051060e+00,  1.84575772e+00,\n",
       "        -7.32407490e-01, -1.80211241e-01,  1.53475728e+00,\n",
       "         1.75692837e-01,  8.24643231e-01,  7.21322692e-01,\n",
       "         9.25543863e-01,  1.63833945e-01,  2.25031353e-01,\n",
       "        -1.13310092e+00, -3.15732555e-01,  1.14190187e-01,\n",
       "         7.08043532e-01, -1.56484791e+00,  6.63374007e-01,\n",
       "        -5.07943325e-01, -1.41553083e+00, -2.06062075e+00,\n",
       "         8.00276639e-01,  1.42069614e+00,  1.00420354e+00,\n",
       "        -5.47612703e-01, -1.40544217e+00,  8.14299146e-01,\n",
       "        -3.73197771e-01,  1.28573256e+00, -2.01499334e-02,\n",
       "         2.78409221e-01,  1.52129638e+00,  9.42776932e-01,\n",
       "        -8.41085537e-01,  2.65581564e-02,  1.04056832e+00,\n",
       "        -1.36270956e-01,  1.30600491e-01, -9.64801439e-01,\n",
       "         5.33817030e-01,  1.64332073e+00, -4.82706995e-01,\n",
       "        -3.47872643e-01, -1.34125394e+00,  2.11701945e+00,\n",
       "        -1.63171099e+00, -1.57862097e+00,  8.58989305e-01,\n",
       "         7.02822747e-02, -1.29137679e-01, -1.09243817e+00,\n",
       "         8.71085257e-01,  3.95388658e-01, -1.49324787e-01,\n",
       "        -2.20865597e+00, -2.50107160e-01, -1.31347497e+00,\n",
       "         6.42754202e-02, -9.35177597e-02, -7.57461461e-01,\n",
       "         1.87807640e+00, -7.14076444e-01,  2.83403363e-01,\n",
       "         8.00176619e-02, -4.96472996e-01, -5.22145463e-01,\n",
       "         1.42355671e+00, -2.83742307e-01, -8.46480896e-01,\n",
       "         1.25269086e+00, -1.96251022e+00,  1.16909602e+00,\n",
       "        -6.48169949e-01, -5.74516577e-01, -1.22736575e-01,\n",
       "         6.56083041e-01,  1.37178150e+00, -1.93893547e-02,\n",
       "        -4.36197587e-01, -1.07294754e+00, -1.68648891e+00,\n",
       "        -2.14766412e-01, -1.25298923e+00,  9.50743837e-01,\n",
       "        -1.16903665e+00, -1.59296456e+00,  9.09980304e-01,\n",
       "         1.36400370e+00,  1.07269547e+00,  2.83104004e-02,\n",
       "         5.00941276e-03,  8.61216602e-01,  1.19273323e+00,\n",
       "         2.74183046e+00, -1.40364868e+00, -1.19868221e-02,\n",
       "        -5.16906338e-01, -6.48467692e-01, -2.95268961e-01,\n",
       "        -5.20821512e-02,  8.99928060e-01, -8.79313210e-01,\n",
       "         5.19969607e-01, -3.00778003e-01,  2.04415335e+00,\n",
       "         9.52207498e-01, -1.24757275e+00, -1.65604541e-01,\n",
       "         4.20852696e-01, -7.63235892e-01,  2.10834110e-01,\n",
       "         1.33677086e-01,  3.91662539e-01, -4.11948529e-01,\n",
       "        -8.25353470e-01,  1.03151841e+00, -1.63700350e+00,\n",
       "         2.93046500e-01,  6.53179131e-01,  3.39557431e-01,\n",
       "        -5.42396179e-01, -5.65259733e-01, -5.41063127e-01,\n",
       "         2.83142672e-01, -1.30982462e-01,  6.07116491e-01,\n",
       "        -1.36457620e+00,  2.17332728e+00,  4.64382062e-01,\n",
       "        -1.00010711e-03,  1.07159615e+00, -1.69752171e+00,\n",
       "         1.42448110e+00,  6.15855450e-01,  6.39254501e-01,\n",
       "         2.14673608e-01, -3.90731545e-01, -1.63990708e-01,\n",
       "         4.14896218e-01, -1.49855422e-01, -9.30095663e-01,\n",
       "         2.26484073e+00, -5.77215211e-01,  7.23664175e-01,\n",
       "        -5.04717701e-01,  5.64310157e-01, -2.62111709e-02,\n",
       "         6.07520849e-01, -3.83663216e-01,  4.34438105e-01,\n",
       "         2.44951875e-01,  8.42072002e-01, -2.55162083e-02,\n",
       "        -1.54281171e+00, -2.88875679e+00, -2.29418477e+00,\n",
       "         3.59044679e-02,  6.27471959e-01,  9.84654685e-01,\n",
       "         1.75963383e-01,  5.59372043e-01,  8.10533169e-01,\n",
       "        -1.20342547e+00, -6.27861646e-02, -2.09874694e-02,\n",
       "        -7.11319618e-01, -6.72195586e-02,  7.81696331e-01,\n",
       "        -1.26741475e+00,  1.58272079e+00,  1.17786613e+00,\n",
       "        -6.87043837e-01, -1.10620467e+00,  4.37546725e-01,\n",
       "         4.27902348e-02, -3.14211271e-01, -8.37749562e-01,\n",
       "         6.00169180e-01, -4.81026421e-01,  2.96789713e-01,\n",
       "        -4.68948159e-01, -2.19942537e+00, -6.68327866e-01,\n",
       "        -3.42457025e-01,  7.72352936e-01, -1.90648725e-01,\n",
       "         2.70590904e-01, -1.10173919e+00,  2.22330366e+00,\n",
       "        -8.70591375e-01,  7.20013626e-01,  1.30888771e+00,\n",
       "        -3.18046844e-01, -4.14627342e-01, -4.71534172e-01,\n",
       "        -1.97070341e-01, -1.43673629e+00,  1.04560596e+00,\n",
       "        -4.89283087e-01, -2.48742265e-01, -1.41155409e+00,\n",
       "         6.11952688e-01, -4.89599492e-01,  1.23676132e+00,\n",
       "         6.93118904e-01,  2.28852923e+00, -6.99181816e-01,\n",
       "         1.25937451e+00,  1.37761579e+00,  4.82892685e-01,\n",
       "         9.88525973e-01, -1.56262296e+00, -1.44148955e-01,\n",
       "        -5.56034253e-01,  1.67053372e+00,  6.34228985e-01,\n",
       "         4.93541508e-01,  6.77082432e-02,  3.10887860e-01,\n",
       "         3.59723769e-01, -2.75364728e-01, -9.86741878e-02,\n",
       "         7.95553615e-01,  5.58577775e-01, -4.08119957e-01,\n",
       "        -1.78422756e+00,  7.34215606e-01, -8.04341045e-01,\n",
       "         3.25555777e+00,  5.43530834e-01,  4.89411321e-01,\n",
       "         1.59871638e+00,  1.12233631e+00,  2.80997615e-01,\n",
       "        -8.44863146e-01,  1.81084630e-01,  3.87195811e-01,\n",
       "        -9.31951658e-01,  1.12210263e-01, -1.95250563e-01,\n",
       "         6.66039668e-01, -1.24454552e+00, -4.23049230e-01,\n",
       "        -1.89306680e+00,  8.69486186e-01,  1.28134211e+00,\n",
       "         4.59352942e-01, -1.02609676e+00,  1.43976225e-01,\n",
       "         2.18880843e-01,  5.12594035e-01, -1.50773053e-01,\n",
       "        -4.36072859e-01, -1.34786730e+00,  8.40663889e-01,\n",
       "         3.61155642e-01, -7.87392863e-01,  1.90049118e+00,\n",
       "        -2.16399461e-01,  4.59451958e-01,  8.76850013e-01,\n",
       "         4.06342198e-01,  2.96208314e+00, -5.35342823e-01,\n",
       "        -4.04570232e-01,  7.98477141e-01, -1.77955580e-01,\n",
       "         5.40911718e-01,  2.71051656e-01,  8.28648975e-01,\n",
       "         1.71103544e+00, -1.25445344e-01, -1.05924560e+00,\n",
       "        -1.17166844e+00, -4.57725277e-01,  1.53186987e-01,\n",
       "         2.61862659e+00,  3.56935503e-01,  3.64252119e-01,\n",
       "        -2.39367872e+00, -1.82499210e+00, -5.93781754e-01,\n",
       "        -3.25587643e-01,  6.31498506e-01, -1.32472246e+00,\n",
       "        -1.21440347e+00,  9.86104430e-01,  3.26462215e-02,\n",
       "        -1.50965852e+00,  1.04923424e+00,  1.25867000e-01,\n",
       "        -1.90556717e+00, -1.93314999e+00,  6.03558339e-02,\n",
       "        -1.64949050e+00, -8.57451744e-03,  1.00208233e+00,\n",
       "         1.62885413e+00, -6.90908299e-02,  2.41509300e-01,\n",
       "         1.76759126e+00, -1.18553495e+00, -1.22443475e+00,\n",
       "        -2.49953026e+00, -9.01532842e-02, -4.70769217e-01,\n",
       "         1.82745481e-01, -1.17071219e+00, -1.12709133e+00,\n",
       "        -1.32750500e-01,  4.73790272e-01,  4.28734541e-01,\n",
       "         1.87757676e+00, -7.99025169e-01, -4.06746899e-01,\n",
       "        -8.11320286e-02, -1.29111023e-01, -1.14018696e+00,\n",
       "         5.45483715e-01, -2.85422734e-01, -1.56633170e-01,\n",
       "         1.75366575e+00, -7.74446888e-01, -8.39704710e-01,\n",
       "         1.03780709e+00,  1.50948098e+00, -2.69360527e-01,\n",
       "        -1.74345001e+00, -5.81907627e-01, -1.69532714e+00,\n",
       "        -7.27696858e-01, -6.97653566e-01, -4.55654172e-01,\n",
       "         6.28843324e-01,  3.55025609e-01,  1.44311497e-01,\n",
       "         4.85055177e-01,  1.45991173e+00, -4.62015802e-01,\n",
       "         4.55813181e-01, -2.65096179e-01,  1.47726869e-01,\n",
       "        -1.80794553e+00, -4.24764568e-01, -7.49721838e-01,\n",
       "        -5.68196528e-01,  8.76163410e-01,  2.69468987e-01,\n",
       "        -3.58790938e-01,  6.32598910e-01,  1.47645213e-01,\n",
       "        -2.20948742e-01, -7.22834672e-01, -1.33027017e-01,\n",
       "         3.88034483e-01, -2.43309391e-01, -6.55252167e-02,\n",
       "        -5.93341245e-01, -6.32401735e-01, -1.00385167e+00,\n",
       "         1.38525063e+00,  2.07747075e+00, -2.91235360e-01,\n",
       "         9.53370741e-01,  3.37237861e-01,  1.65458559e-01,\n",
       "        -1.30464720e+00, -6.08362128e-01, -1.63603421e+00,\n",
       "         2.73122870e-01,  5.77734788e-01, -9.21477108e-02,\n",
       "         1.18767445e+00,  4.11901365e-01, -1.05863950e-01,\n",
       "        -1.49746742e+00, -2.62637975e-01,  1.92097172e-01,\n",
       "         5.00228838e-01,  1.50543015e+00, -1.79587232e+00,\n",
       "        -8.08451305e-04,  3.91229743e-01,  2.97632220e+00,\n",
       "         3.57265480e-01, -7.60000825e-01, -1.86054088e+00,\n",
       "        -1.48079692e+00, -3.43599781e-01,  1.40599602e+00,\n",
       "         1.50131148e-01,  9.52804597e-01,  2.69769499e-01,\n",
       "         1.79523967e-01,  1.19461510e+00, -5.49471066e-01,\n",
       "         1.29898889e+00,  8.75043848e-01,  4.90934191e-01,\n",
       "         8.32044954e-01, -7.67774628e-01, -1.32505150e+00,\n",
       "         1.69717799e-01,  1.71393957e+00, -8.03388657e-01,\n",
       "         4.21586959e-01, -2.38336453e-01, -6.33062774e-01,\n",
       "         8.44405047e-02,  2.24364367e-01, -6.91599004e-01,\n",
       "         5.30420607e-02,  4.14935747e-03, -1.23365937e+00,\n",
       "        -6.63884970e-01,  2.46854372e-01,  9.40268438e-01,\n",
       "         5.93826029e-01,  2.47854421e+00, -1.39371919e+00,\n",
       "        -7.24996064e-01, -7.88263483e-01, -1.38726268e+00,\n",
       "         5.23162357e-01,  1.67619438e+00,  5.90040680e-01,\n",
       "        -7.50739632e-01,  4.24049724e-02, -2.01476098e-01,\n",
       "         1.97617349e+00,  1.21252898e+00,  1.13244331e+00,\n",
       "         1.12460779e-01,  1.13610763e-01, -2.87600416e-01,\n",
       "        -3.92451262e-01, -2.44183078e+00,  9.80435757e-01,\n",
       "        -1.32963966e+00, -1.30880324e+00, -4.70734670e-02,\n",
       "         1.27418281e+00, -5.18368544e-01, -3.15093125e-01,\n",
       "        -3.23474870e-01, -9.11940585e-01,  1.15673951e+00,\n",
       "         4.15015977e-01, -9.37128325e-01, -5.88328258e-01,\n",
       "        -7.80885148e-01, -1.18452933e+00, -4.07479210e-01,\n",
       "        -1.26808238e+00, -2.17455832e-01, -1.51544162e+00,\n",
       "        -1.21672720e+00, -6.46058080e-01,  8.81465569e-01,\n",
       "        -1.11427060e-01, -3.46147685e-01, -6.51893413e-01,\n",
       "        -1.18754164e+00, -2.50750096e-01, -1.12699066e+00,\n",
       "        -6.15244555e-01, -4.77577540e-01, -1.18778649e+00,\n",
       "         1.53308306e-01,  1.44783303e+00,  1.78144532e+00,\n",
       "         1.49333098e-01, -8.45158550e-01,  3.71956544e-01,\n",
       "         1.18245991e+00, -6.40548762e-01, -1.67724693e-02,\n",
       "         6.44913131e-02, -1.63303486e-01, -7.56883227e-01,\n",
       "         1.16573791e+00, -3.03104943e-01, -1.91187525e+00,\n",
       "        -2.71939177e-03,  1.46736845e-01,  2.07867170e+00,\n",
       "        -7.60008832e-01,  2.16137141e+00, -9.64968318e-01,\n",
       "         9.15034956e-01, -7.18318434e-01, -9.91295998e-01,\n",
       "        -1.15986394e+00, -7.30219345e-01,  3.33951696e-01,\n",
       "        -1.46618806e+00]])"
      ]
     },
     "execution_count": 49,
     "metadata": {},
     "output_type": "execute_result"
    }
   ],
   "source": [
    "X_new"
   ]
  },
  {
   "cell_type": "code",
   "execution_count": 50,
   "metadata": {},
   "outputs": [],
   "source": [
    "y_pred=sum(tree.predict(X_new) for tree in (tree_reg1, tree_reg2, tree_reg3))"
   ]
  },
  {
   "cell_type": "code",
   "execution_count": 53,
   "metadata": {},
   "outputs": [
    {
     "data": {
      "text/plain": [
       "GradientBoostingRegressor(alpha=0.9, ccp_alpha=0.0, criterion='friedman_mse',\n",
       "                          init=None, learning_rate=1.0, loss='ls', max_depth=2,\n",
       "                          max_features=None, max_leaf_nodes=None,\n",
       "                          min_impurity_decrease=0.0, min_impurity_split=None,\n",
       "                          min_samples_leaf=1, min_samples_split=2,\n",
       "                          min_weight_fraction_leaf=0.0, n_estimators=3,\n",
       "                          n_iter_no_change=None, presort='deprecated',\n",
       "                          random_state=None, subsample=1.0, tol=0.0001,\n",
       "                          validation_fraction=0.1, verbose=0, warm_start=False)"
      ]
     },
     "execution_count": 53,
     "metadata": {},
     "output_type": "execute_result"
    }
   ],
   "source": [
    "from sklearn.ensemble import GradientBoostingRegressor\n",
    "gbrt=GradientBoostingRegressor(max_depth=2, n_estimators=3, learning_rate=1.0)\n",
    "gbrt.fit(X,y)"
   ]
  },
  {
   "cell_type": "code",
   "execution_count": 55,
   "metadata": {},
   "outputs": [
    {
     "data": {
      "text/plain": [
       "GradientBoostingRegressor(alpha=0.9, ccp_alpha=0.0, criterion='friedman_mse',\n",
       "                          init=None, learning_rate=0.1, loss='ls', max_depth=2,\n",
       "                          max_features=None, max_leaf_nodes=None,\n",
       "                          min_impurity_decrease=0.0, min_impurity_split=None,\n",
       "                          min_samples_leaf=1, min_samples_split=2,\n",
       "                          min_weight_fraction_leaf=0.0, n_estimators=120,\n",
       "                          n_iter_no_change=None, presort='deprecated',\n",
       "                          random_state=None, subsample=1.0, tol=0.0001,\n",
       "                          validation_fraction=0.1, verbose=0, warm_start=False)"
      ]
     },
     "execution_count": 55,
     "metadata": {},
     "output_type": "execute_result"
    }
   ],
   "source": [
    "import numpy as np\n",
    "from sklearn.model_selection import train_test_split\n",
    "from sklearn.metrics import mean_squared_error\n",
    "\n",
    "X_train, X_val, y_train, y_val = train_test_split(X,y)\n",
    "gbrt=GradientBoostingRegressor(max_depth=2, n_estimators=120)\n",
    "gbrt.fit(X_train, y_train)"
   ]
  },
  {
   "cell_type": "code",
   "execution_count": 57,
   "metadata": {},
   "outputs": [
    {
     "data": {
      "text/plain": [
       "GradientBoostingRegressor(alpha=0.9, ccp_alpha=0.0, criterion='friedman_mse',\n",
       "                          init=None, learning_rate=0.1, loss='ls', max_depth=2,\n",
       "                          max_features=None, max_leaf_nodes=None,\n",
       "                          min_impurity_decrease=0.0, min_impurity_split=None,\n",
       "                          min_samples_leaf=1, min_samples_split=2,\n",
       "                          min_weight_fraction_leaf=0.0, n_estimators=120,\n",
       "                          n_iter_no_change=None, presort='deprecated',\n",
       "                          random_state=None, subsample=1.0, tol=0.0001,\n",
       "                          validation_fraction=0.1, verbose=0, warm_start=False)"
      ]
     },
     "execution_count": 57,
     "metadata": {},
     "output_type": "execute_result"
    }
   ],
   "source": [
    "errors=[mean_squared_error(y_val, y_pred) for y_pred in gbrt.staged_predict(X_val)]\n",
    "bst_n_estimators=np.argmin(errors)+1\n",
    "gbrt_best=GradientBoostingRegressor(max_depth=2, n_estimators=bst_n_estimators)\n",
    "gbrt_best.fit(X_train,y_train)"
   ]
  },
  {
   "cell_type": "code",
   "execution_count": 59,
   "metadata": {},
   "outputs": [],
   "source": [
    "gbrt=GradientBoostingRegressor(max_depth=2, warm_start=True)\n",
    "\n",
    "min_val_error=float(\"inf\")\n",
    "error_going_up =0\n",
    "for n_estimators in range(1,120):\n",
    "    gbrt.n_estimators=n_estimators\n",
    "    gbrt.fit(X_train, y_train)\n",
    "    y_pred = gbrt.predict(X_val)\n",
    "    val_error=mean_squared_error(y_val, y_pred)\n",
    "    if val_error < min_val_error:\n",
    "        min_val_error=val_error\n",
    "        error_going_up=0\n",
    "    else:\n",
    "        error_going_up +=1\n",
    "        if error_going_up==5:\n",
    "            break"
   ]
  },
  {
   "cell_type": "code",
   "execution_count": null,
   "metadata": {},
   "outputs": [],
   "source": []
  }
 ],
 "metadata": {
  "kernelspec": {
   "display_name": "Python 3",
   "language": "python",
   "name": "python3"
  },
  "language_info": {
   "codemirror_mode": {
    "name": "ipython",
    "version": 3
   },
   "file_extension": ".py",
   "mimetype": "text/x-python",
   "name": "python",
   "nbconvert_exporter": "python",
   "pygments_lexer": "ipython3",
   "version": "3.7.6"
  }
 },
 "nbformat": 4,
 "nbformat_minor": 4
}
