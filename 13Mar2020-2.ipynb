{
 "cells": [
  {
   "cell_type": "code",
   "execution_count": 13,
   "metadata": {},
   "outputs": [],
   "source": [
    "# Open anaconda prompt and type the following.\n",
    "# conda install -c anaconda py-xgboost"
   ]
  },
  {
   "cell_type": "code",
   "execution_count": 14,
   "metadata": {},
   "outputs": [],
   "source": [
    "from sklearn.datasets import fetch_openml\n",
    "mnist= fetch_openml('mnist_784', version=1)\n",
    "mnist.keys()\n",
    "X=mnist[\"data\"]\n",
    "y=mnist[\"target\"]\n",
    "X_train, X_val, y_train, y_val =X[:60000], X[60000:], y[:60000], y[60000:]"
   ]
  },
  {
   "cell_type": "code",
   "execution_count": 15,
   "metadata": {},
   "outputs": [
    {
     "name": "stdout",
     "output_type": "stream",
     "text": [
      "[13:19:56] WARNING: src/objective/regression_obj.cu:152: reg:linear is now deprecated in favor of reg:squarederror.\n"
     ]
    }
   ],
   "source": [
    "import xgboost\n",
    "xgb_reg=xgboost.XGBRegressor()\n",
    "xgb_reg.fit(X_train, y_train)\n",
    "y_pred=xgb_reg.predict(X_val)"
   ]
  },
  {
   "cell_type": "code",
   "execution_count": 16,
   "metadata": {},
   "outputs": [
    {
     "name": "stdout",
     "output_type": "stream",
     "text": [
      "[13:22:14] WARNING: src/objective/regression_obj.cu:152: reg:linear is now deprecated in favor of reg:squarederror.\n",
      "[0]\tvalidation_0-rmse:4.4995\n",
      "Will train until validation_0-rmse hasn't improved in 2 rounds.\n",
      "[1]\tvalidation_0-rmse:4.15553\n",
      "[2]\tvalidation_0-rmse:3.85181\n",
      "[3]\tvalidation_0-rmse:3.58327\n",
      "[4]\tvalidation_0-rmse:3.344\n",
      "[5]\tvalidation_0-rmse:3.13758\n",
      "[6]\tvalidation_0-rmse:2.95373\n",
      "[7]\tvalidation_0-rmse:2.79446\n",
      "[8]\tvalidation_0-rmse:2.6492\n",
      "[9]\tvalidation_0-rmse:2.52714\n",
      "[10]\tvalidation_0-rmse:2.42277\n",
      "[11]\tvalidation_0-rmse:2.32457\n",
      "[12]\tvalidation_0-rmse:2.23028\n",
      "[13]\tvalidation_0-rmse:2.16257\n",
      "[14]\tvalidation_0-rmse:2.09546\n",
      "[15]\tvalidation_0-rmse:2.03801\n",
      "[16]\tvalidation_0-rmse:1.99399\n",
      "[17]\tvalidation_0-rmse:1.94604\n",
      "[18]\tvalidation_0-rmse:1.91151\n",
      "[19]\tvalidation_0-rmse:1.88227\n",
      "[20]\tvalidation_0-rmse:1.84953\n",
      "[21]\tvalidation_0-rmse:1.82168\n",
      "[22]\tvalidation_0-rmse:1.79314\n",
      "[23]\tvalidation_0-rmse:1.77508\n",
      "[24]\tvalidation_0-rmse:1.75218\n",
      "[25]\tvalidation_0-rmse:1.74032\n",
      "[26]\tvalidation_0-rmse:1.72594\n",
      "[27]\tvalidation_0-rmse:1.71279\n",
      "[28]\tvalidation_0-rmse:1.69767\n",
      "[29]\tvalidation_0-rmse:1.67998\n",
      "[30]\tvalidation_0-rmse:1.67116\n",
      "[31]\tvalidation_0-rmse:1.65429\n",
      "[32]\tvalidation_0-rmse:1.64761\n",
      "[33]\tvalidation_0-rmse:1.6355\n",
      "[34]\tvalidation_0-rmse:1.62334\n",
      "[35]\tvalidation_0-rmse:1.60982\n",
      "[36]\tvalidation_0-rmse:1.60516\n",
      "[37]\tvalidation_0-rmse:1.59869\n",
      "[38]\tvalidation_0-rmse:1.58934\n",
      "[39]\tvalidation_0-rmse:1.58342\n",
      "[40]\tvalidation_0-rmse:1.57527\n",
      "[41]\tvalidation_0-rmse:1.57208\n",
      "[42]\tvalidation_0-rmse:1.56397\n",
      "[43]\tvalidation_0-rmse:1.55619\n",
      "[44]\tvalidation_0-rmse:1.55219\n",
      "[45]\tvalidation_0-rmse:1.54331\n",
      "[46]\tvalidation_0-rmse:1.53508\n",
      "[47]\tvalidation_0-rmse:1.53027\n",
      "[48]\tvalidation_0-rmse:1.52715\n",
      "[49]\tvalidation_0-rmse:1.52295\n",
      "[50]\tvalidation_0-rmse:1.51717\n",
      "[51]\tvalidation_0-rmse:1.51514\n",
      "[52]\tvalidation_0-rmse:1.51205\n",
      "[53]\tvalidation_0-rmse:1.50374\n",
      "[54]\tvalidation_0-rmse:1.50159\n",
      "[55]\tvalidation_0-rmse:1.49771\n",
      "[56]\tvalidation_0-rmse:1.49025\n",
      "[57]\tvalidation_0-rmse:1.48817\n",
      "[58]\tvalidation_0-rmse:1.48504\n",
      "[59]\tvalidation_0-rmse:1.48006\n",
      "[60]\tvalidation_0-rmse:1.47719\n",
      "[61]\tvalidation_0-rmse:1.47204\n",
      "[62]\tvalidation_0-rmse:1.46975\n",
      "[63]\tvalidation_0-rmse:1.46708\n",
      "[64]\tvalidation_0-rmse:1.46187\n",
      "[65]\tvalidation_0-rmse:1.46035\n",
      "[66]\tvalidation_0-rmse:1.45768\n",
      "[67]\tvalidation_0-rmse:1.45287\n",
      "[68]\tvalidation_0-rmse:1.44859\n",
      "[69]\tvalidation_0-rmse:1.44712\n",
      "[70]\tvalidation_0-rmse:1.44388\n",
      "[71]\tvalidation_0-rmse:1.44007\n",
      "[72]\tvalidation_0-rmse:1.43792\n",
      "[73]\tvalidation_0-rmse:1.4344\n",
      "[74]\tvalidation_0-rmse:1.43151\n",
      "[75]\tvalidation_0-rmse:1.42996\n",
      "[76]\tvalidation_0-rmse:1.42728\n",
      "[77]\tvalidation_0-rmse:1.42559\n",
      "[78]\tvalidation_0-rmse:1.42421\n",
      "[79]\tvalidation_0-rmse:1.42204\n",
      "[80]\tvalidation_0-rmse:1.41934\n",
      "[81]\tvalidation_0-rmse:1.41766\n",
      "[82]\tvalidation_0-rmse:1.41241\n",
      "[83]\tvalidation_0-rmse:1.41045\n",
      "[84]\tvalidation_0-rmse:1.40776\n",
      "[85]\tvalidation_0-rmse:1.40683\n",
      "[86]\tvalidation_0-rmse:1.40585\n",
      "[87]\tvalidation_0-rmse:1.40344\n",
      "[88]\tvalidation_0-rmse:1.40017\n",
      "[89]\tvalidation_0-rmse:1.399\n",
      "[90]\tvalidation_0-rmse:1.39724\n",
      "[91]\tvalidation_0-rmse:1.39641\n",
      "[92]\tvalidation_0-rmse:1.39543\n",
      "[93]\tvalidation_0-rmse:1.39277\n",
      "[94]\tvalidation_0-rmse:1.39074\n",
      "[95]\tvalidation_0-rmse:1.3896\n",
      "[96]\tvalidation_0-rmse:1.38724\n",
      "[97]\tvalidation_0-rmse:1.3848\n",
      "[98]\tvalidation_0-rmse:1.38279\n",
      "[99]\tvalidation_0-rmse:1.38148\n"
     ]
    }
   ],
   "source": [
    "xgb_reg.fit(X_train, y_train, eval_set=[(X_val, y_val)], early_stopping_rounds=2)\n",
    "y_pred=xgb_reg.predict(X_val)"
   ]
  },
  {
   "cell_type": "code",
   "execution_count": null,
   "metadata": {},
   "outputs": [],
   "source": []
  }
 ],
 "metadata": {
  "kernelspec": {
   "display_name": "Python 3",
   "language": "python",
   "name": "python3"
  },
  "language_info": {
   "codemirror_mode": {
    "name": "ipython",
    "version": 3
   },
   "file_extension": ".py",
   "mimetype": "text/x-python",
   "name": "python",
   "nbconvert_exporter": "python",
   "pygments_lexer": "ipython3",
   "version": "3.7.6"
  }
 },
 "nbformat": 4,
 "nbformat_minor": 4
}
